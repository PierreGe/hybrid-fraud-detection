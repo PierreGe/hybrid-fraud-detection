{
 "cells": [
  {
   "cell_type": "markdown",
   "metadata": {
    "collapsed": true
   },
   "source": [
    "# Global Anomalies detection"
   ]
  },
  {
   "cell_type": "markdown",
   "metadata": {},
   "source": [
    "Which config is going to be loaded ? normal or with extended variable"
   ]
  },
  {
   "cell_type": "code",
   "execution_count": 1,
   "metadata": {
    "collapsed": true
   },
   "outputs": [],
   "source": [
    "extendend_dataset_selected = False"
   ]
  },
  {
   "cell_type": "markdown",
   "metadata": {},
   "source": [
    "### Libraries"
   ]
  },
  {
   "cell_type": "code",
   "execution_count": 2,
   "metadata": {
    "collapsed": true
   },
   "outputs": [],
   "source": [
    "import h2o\n",
    "import pandas as pd\n",
    "import numpy as np"
   ]
  },
  {
   "cell_type": "code",
   "execution_count": 3,
   "metadata": {},
   "outputs": [
    {
     "name": "stderr",
     "output_type": "stream",
     "text": [
      "IOPub data rate exceeded.\n",
      "The notebook server will temporarily stop sending output\n",
      "to the client in order to avoid crashing it.\n",
      "To change this limit, set the config variable\n",
      "`--NotebookApp.iopub_data_rate_limit`.\n"
     ]
    }
   ],
   "source": [
    "import plotly.graph_objs as go\n",
    "import plotly\n",
    "plotly.offline.init_notebook_mode() "
   ]
  },
  {
   "cell_type": "code",
   "execution_count": 4,
   "metadata": {
    "collapsed": true
   },
   "outputs": [],
   "source": [
    "import itertools"
   ]
  },
  {
   "cell_type": "code",
   "execution_count": 5,
   "metadata": {
    "collapsed": true
   },
   "outputs": [],
   "source": [
    "from sklearn.decomposition import PCA\n",
    "from sklearn.preprocessing import StandardScaler, MinMaxScaler"
   ]
  },
  {
   "cell_type": "code",
   "execution_count": 6,
   "metadata": {
    "collapsed": true
   },
   "outputs": [],
   "source": [
    "from sklearn.metrics import precision_recall_curve\n",
    "from sklearn.metrics import average_precision_score"
   ]
  },
  {
   "cell_type": "code",
   "execution_count": 7,
   "metadata": {
    "collapsed": true
   },
   "outputs": [],
   "source": [
    "from scipy.special import erf"
   ]
  },
  {
   "cell_type": "code",
   "execution_count": 8,
   "metadata": {
    "collapsed": true
   },
   "outputs": [],
   "source": [
    "from scipy.stats import pearsonr, kendalltau, spearmanr"
   ]
  },
  {
   "cell_type": "code",
   "execution_count": 9,
   "metadata": {
    "collapsed": true
   },
   "outputs": [],
   "source": [
    "if extendend_dataset_selected:\n",
    "    from extendedgenv import *\n",
    "else:\n",
    "    from genv import *"
   ]
  },
  {
   "cell_type": "markdown",
   "metadata": {},
   "source": [
    "Considered features for outliers"
   ]
  },
  {
   "cell_type": "code",
   "execution_count": 10,
   "metadata": {},
   "outputs": [
    {
     "data": {
      "text/plain": [
       "['V1',\n",
       " 'V2',\n",
       " 'V3',\n",
       " 'V4',\n",
       " 'V5',\n",
       " 'V6',\n",
       " 'V7',\n",
       " 'V8',\n",
       " 'V9',\n",
       " 'V10',\n",
       " 'V11',\n",
       " 'V12',\n",
       " 'V13',\n",
       " 'V14',\n",
       " 'V15',\n",
       " 'V16',\n",
       " 'V17',\n",
       " 'V18',\n",
       " 'V19',\n",
       " 'V20',\n",
       " 'V21',\n",
       " 'V22',\n",
       " 'V23',\n",
       " 'V24',\n",
       " 'V25',\n",
       " 'V26',\n",
       " 'V27',\n",
       " 'V28',\n",
       " 'amount']"
      ]
     },
     "execution_count": 10,
     "metadata": {},
     "output_type": "execute_result"
    }
   ],
   "source": [
    "X_fraud"
   ]
  },
  {
   "cell_type": "markdown",
   "metadata": {},
   "source": [
    "### H2O cluster"
   ]
  },
  {
   "cell_type": "markdown",
   "metadata": {},
   "source": [
    "API doc : http://docs.h2o.ai/h2o/latest-stable/h2o-py/docs/index.html"
   ]
  },
  {
   "cell_type": "code",
   "execution_count": 11,
   "metadata": {},
   "outputs": [
    {
     "name": "stdout",
     "output_type": "stream",
     "text": [
      "Checking whether there is an H2O instance running at http://localhost:54321. connected.\n"
     ]
    },
    {
     "data": {
      "text/html": [
       "<div style=\"overflow:auto\"><table style=\"width:50%\"><tr><td>H2O cluster uptime:</td>\n",
       "<td>31 mins 31 secs</td></tr>\n",
       "<tr><td>H2O cluster version:</td>\n",
       "<td>3.10.4.8</td></tr>\n",
       "<tr><td>H2O cluster version age:</td>\n",
       "<td>5 days </td></tr>\n",
       "<tr><td>H2O cluster name:</td>\n",
       "<td>H2O_from_python_pierre_2e44fe</td></tr>\n",
       "<tr><td>H2O cluster total nodes:</td>\n",
       "<td>1</td></tr>\n",
       "<tr><td>H2O cluster free memory:</td>\n",
       "<td>28.00 Gb</td></tr>\n",
       "<tr><td>H2O cluster total cores:</td>\n",
       "<td>4</td></tr>\n",
       "<tr><td>H2O cluster allowed cores:</td>\n",
       "<td>4</td></tr>\n",
       "<tr><td>H2O cluster status:</td>\n",
       "<td>locked, healthy</td></tr>\n",
       "<tr><td>H2O connection url:</td>\n",
       "<td>http://localhost:54321</td></tr>\n",
       "<tr><td>H2O connection proxy:</td>\n",
       "<td>None</td></tr>\n",
       "<tr><td>H2O internal security:</td>\n",
       "<td>False</td></tr>\n",
       "<tr><td>Python version:</td>\n",
       "<td>3.6.0 final</td></tr></table></div>"
      ],
      "text/plain": [
       "--------------------------  -----------------------------\n",
       "H2O cluster uptime:         31 mins 31 secs\n",
       "H2O cluster version:        3.10.4.8\n",
       "H2O cluster version age:    5 days\n",
       "H2O cluster name:           H2O_from_python_pierre_2e44fe\n",
       "H2O cluster total nodes:    1\n",
       "H2O cluster free memory:    28.00 Gb\n",
       "H2O cluster total cores:    4\n",
       "H2O cluster allowed cores:  4\n",
       "H2O cluster status:         locked, healthy\n",
       "H2O connection url:         http://localhost:54321\n",
       "H2O connection proxy:\n",
       "H2O internal security:      False\n",
       "Python version:             3.6.0 final\n",
       "--------------------------  -----------------------------"
      ]
     },
     "metadata": {},
     "output_type": "display_data"
    }
   ],
   "source": [
    "h2o.init(max_mem_size = \"32g\")"
   ]
  },
  {
   "cell_type": "code",
   "execution_count": 12,
   "metadata": {
    "collapsed": true
   },
   "outputs": [],
   "source": [
    "a = pd.read_csv(DIR_INPUT + FILE_EVALTEST)"
   ]
  },
  {
   "cell_type": "code",
   "execution_count": 13,
   "metadata": {},
   "outputs": [
    {
     "data": {
      "text/plain": [
       "False"
      ]
     },
     "execution_count": 13,
     "metadata": {},
     "output_type": "execute_result"
    }
   ],
   "source": [
    "a.isnull().values.any()"
   ]
  },
  {
   "cell_type": "markdown",
   "metadata": {},
   "source": [
    "### Load data"
   ]
  },
  {
   "cell_type": "markdown",
   "metadata": {},
   "source": [
    "Load data into h2oframe"
   ]
  },
  {
   "cell_type": "code",
   "execution_count": 14,
   "metadata": {},
   "outputs": [
    {
     "name": "stdout",
     "output_type": "stream",
     "text": [
      "Parse progress: |█████████████████████████████████████████████████████████| 100%\n"
     ]
    }
   ],
   "source": [
    "df_train_unbalanced = h2o.import_file(path=DIR_INPUT + FILE_TRAIN_UNBALANCED, col_names=COL_NAME, col_types=COL_TYPE,header=1)"
   ]
  },
  {
   "cell_type": "code",
   "execution_count": 15,
   "metadata": {},
   "outputs": [
    {
     "name": "stdout",
     "output_type": "stream",
     "text": [
      "Parse progress: |█████████████████████████████████████████████████████████| 100%\n"
     ]
    }
   ],
   "source": [
    "df_validtest = h2o.import_file(path=DIR_INPUT + FILE_EVALTEST, col_names=COL_NAME, col_types=COL_TYPE, header=1)"
   ]
  },
  {
   "cell_type": "markdown",
   "metadata": {},
   "source": [
    "### Exploration "
   ]
  },
  {
   "cell_type": "code",
   "execution_count": 16,
   "metadata": {},
   "outputs": [
    {
     "data": {
      "text/html": [
       "<table>\n",
       "<thead>\n",
       "<tr><th style=\"text-align: right;\">  datetime</th><th style=\"text-align: right;\">      V1</th><th style=\"text-align: right;\">        V2</th><th style=\"text-align: right;\">     V3</th><th style=\"text-align: right;\">     V4</th><th style=\"text-align: right;\">       V5</th><th style=\"text-align: right;\">      V6</th><th style=\"text-align: right;\">      V7</th><th style=\"text-align: right;\">       V8</th><th style=\"text-align: right;\">      V9</th><th style=\"text-align: right;\">      V10</th><th style=\"text-align: right;\">    V11</th><th style=\"text-align: right;\">      V12</th><th style=\"text-align: right;\">     V13</th><th style=\"text-align: right;\">      V14</th><th style=\"text-align: right;\">    V15</th><th style=\"text-align: right;\">      V16</th><th style=\"text-align: right;\">     V17</th><th style=\"text-align: right;\">      V18</th><th style=\"text-align: right;\">     V19</th><th style=\"text-align: right;\">     V20</th><th style=\"text-align: right;\">       V21</th><th style=\"text-align: right;\">     V22</th><th style=\"text-align: right;\">      V23</th><th style=\"text-align: right;\">      V24</th><th style=\"text-align: right;\">     V25</th><th style=\"text-align: right;\">      V26</th><th style=\"text-align: right;\">     V27</th><th style=\"text-align: right;\">       V28</th><th style=\"text-align: right;\">  amount</th><th style=\"text-align: right;\">  fraud</th></tr>\n",
       "</thead>\n",
       "<tbody>\n",
       "<tr><td style=\"text-align: right;\">            0</td><td style=\"text-align: right;\">-1.35981</td><td style=\"text-align: right;\">-0.0727812</td><td style=\"text-align: right;\">2.53635</td><td style=\"text-align: right;\">1.37816</td><td style=\"text-align: right;\">-0.338321</td><td style=\"text-align: right;\">0.462388</td><td style=\"text-align: right;\">0.239599</td><td style=\"text-align: right;\">0.0986979</td><td style=\"text-align: right;\">0.363787</td><td style=\"text-align: right;\">0.0907942</td><td style=\"text-align: right;\">-0.5516</td><td style=\"text-align: right;\">-0.617801</td><td style=\"text-align: right;\">-0.99139</td><td style=\"text-align: right;\">-0.311169</td><td style=\"text-align: right;\">1.46818</td><td style=\"text-align: right;\">-0.470401</td><td style=\"text-align: right;\">0.207971</td><td style=\"text-align: right;\">0.0257906</td><td style=\"text-align: right;\">0.403993</td><td style=\"text-align: right;\">0.251412</td><td style=\"text-align: right;\">-0.0183068</td><td style=\"text-align: right;\">0.277838</td><td style=\"text-align: right;\">-0.110474</td><td style=\"text-align: right;\">0.0669281</td><td style=\"text-align: right;\">0.128539</td><td style=\"text-align: right;\">-0.189115</td><td style=\"text-align: right;\">0.133558</td><td style=\"text-align: right;\">-0.0210531</td><td style=\"text-align: right;\">     149.62</td><td style=\"text-align: right;\">         0</td></tr>\n",
       "</tbody>\n",
       "</table>"
      ]
     },
     "metadata": {},
     "output_type": "display_data"
    },
    {
     "data": {
      "text/plain": []
     },
     "execution_count": 16,
     "metadata": {},
     "output_type": "execute_result"
    }
   ],
   "source": [
    "df_train_unbalanced.head(1)"
   ]
  },
  {
   "cell_type": "code",
   "execution_count": 17,
   "metadata": {},
   "outputs": [
    {
     "data": {
      "text/html": [
       "<table>\n",
       "<thead>\n",
       "<tr><th style=\"text-align: right;\">  datetime</th><th style=\"text-align: right;\">       V1</th><th style=\"text-align: right;\">     V2</th><th style=\"text-align: right;\">      V3</th><th style=\"text-align: right;\">      V4</th><th style=\"text-align: right;\">      V5</th><th style=\"text-align: right;\">      V6</th><th style=\"text-align: right;\">      V7</th><th style=\"text-align: right;\">      V8</th><th style=\"text-align: right;\">        V9</th><th style=\"text-align: right;\">     V10</th><th style=\"text-align: right;\">       V11</th><th style=\"text-align: right;\">     V12</th><th style=\"text-align: right;\">    V13</th><th style=\"text-align: right;\">     V14</th><th style=\"text-align: right;\">      V15</th><th style=\"text-align: right;\">    V16</th><th style=\"text-align: right;\">      V17</th><th style=\"text-align: right;\">    V18</th><th style=\"text-align: right;\">    V19</th><th style=\"text-align: right;\">       V20</th><th style=\"text-align: right;\">      V21</th><th style=\"text-align: right;\">      V22</th><th style=\"text-align: right;\">      V23</th><th style=\"text-align: right;\">     V24</th><th style=\"text-align: right;\">      V25</th><th style=\"text-align: right;\">      V26</th><th style=\"text-align: right;\">      V27</th><th style=\"text-align: right;\">      V28</th><th style=\"text-align: right;\">  amount</th><th style=\"text-align: right;\">  fraud</th></tr>\n",
       "</thead>\n",
       "<tbody>\n",
       "<tr><td style=\"text-align: right;\">       126397</td><td style=\"text-align: right;\">-0.765586</td><td style=\"text-align: right;\">1.11071</td><td style=\"text-align: right;\">0.497975</td><td style=\"text-align: right;\">-1.24207</td><td style=\"text-align: right;\">0.809253</td><td style=\"text-align: right;\">0.299673</td><td style=\"text-align: right;\">0.352753</td><td style=\"text-align: right;\">0.332642</td><td style=\"text-align: right;\">0.00719612</td><td style=\"text-align: right;\">-1.36338</td><td style=\"text-align: right;\">0.00152343</td><td style=\"text-align: right;\">0.759458</td><td style=\"text-align: right;\">1.21781</td><td style=\"text-align: right;\">-1.42397</td><td style=\"text-align: right;\">-0.316525</td><td style=\"text-align: right;\">1.14988</td><td style=\"text-align: right;\">-0.371549</td><td style=\"text-align: right;\">1.22995</td><td style=\"text-align: right;\">0.55664</td><td style=\"text-align: right;\">-0.0120937</td><td style=\"text-align: right;\">-0.223609</td><td style=\"text-align: right;\">-0.553292</td><td style=\"text-align: right;\">-0.268529</td><td style=\"text-align: right;\">-1.48553</td><td style=\"text-align: right;\">-0.149443</td><td style=\"text-align: right;\">-0.252863</td><td style=\"text-align: right;\">-0.286616</td><td style=\"text-align: right;\">-0.148096</td><td style=\"text-align: right;\">       3.79</td><td style=\"text-align: right;\">         0</td></tr>\n",
       "</tbody>\n",
       "</table>"
      ]
     },
     "metadata": {},
     "output_type": "display_data"
    },
    {
     "data": {
      "text/plain": []
     },
     "execution_count": 17,
     "metadata": {},
     "output_type": "execute_result"
    }
   ],
   "source": [
    "df_validtest.head(1)"
   ]
  },
  {
   "cell_type": "markdown",
   "metadata": {},
   "source": [
    "# Tools"
   ]
  },
  {
   "cell_type": "markdown",
   "metadata": {},
   "source": [
    "Collection of diverse function to be used afterwards"
   ]
  },
  {
   "cell_type": "markdown",
   "metadata": {},
   "source": [
    "Percentage of common observation in outliers from 2 models"
   ]
  },
  {
   "cell_type": "code",
   "execution_count": 18,
   "metadata": {
    "collapsed": true
   },
   "outputs": [],
   "source": [
    "def index_outlier_common(df, outlier_column1, outlier_column2, quantile):\n",
    "    \"\"\"\n",
    "    \"\"\"\n",
    "    assert(isinstance(quantile,float))\n",
    "    assert(isinstance(outlier_column1,str))\n",
    "    assert(isinstance(df,h2o.H2OFrame))\n",
    "    dfo1 = df[outlier_column1].as_data_frame()\n",
    "    dfo2 = df[outlier_column2].as_data_frame()\n",
    "    df_percentile1 = float(dfo1.quantile(quantile))\n",
    "    df_outlier1 = dfo1[(dfo1[outlier_column1] > df_percentile1)]\n",
    "    index_list1 = df_outlier1.index.values\n",
    "    df_percentile2 = float(dfo2.quantile(quantile))\n",
    "    df_outlier2 = dfo2[(dfo2[outlier_column2] > df_percentile2)]\n",
    "    index_list2 = df_outlier2.index.values\n",
    "    max_common = min(len(index_list1), len(index_list2))\n",
    "    common = len(list(set(index_list1).intersection(index_list2)))\n",
    "    print(\"[{} <-> {}] {} common element in outliers out of {} ({}%)\".format(outlier_column1, outlier_column2, common, max_common, common*100/max_common ))"
   ]
  },
  {
   "cell_type": "markdown",
   "metadata": {},
   "source": [
    "Percentage of frauds in quantile"
   ]
  },
  {
   "cell_type": "code",
   "execution_count": 19,
   "metadata": {
    "collapsed": true
   },
   "outputs": [],
   "source": [
    "def fraud_in_outlier_quantile(df, outlier_column, quantile):\n",
    "    \"\"\"\n",
    "    \"\"\"\n",
    "    print(\"WARNING : method run on frauds and not on cards\")\n",
    "    assert(isinstance(quantile,float))\n",
    "    assert(isinstance(outlier_column,str))\n",
    "    assert(isinstance(df,h2o.H2OFrame))\n",
    "    df_percentile = float((df[outlier_column].as_data_frame()).quantile(quantile))\n",
    "    fraud_percent = float(df[df['fraud']]['fraud'].dim[0] ) / df['fraud'].dim[0] *100\n",
    "    df_outlier = df[(df[outlier_column] > df_percentile)]\n",
    "    fraud_outlier_percent = float(df_outlier[df_outlier['fraud']]['fraud'].dim[0] ) / df_outlier['fraud'].dim[0] *100\n",
    "    print(\"> {}% of fraud in outlier while {}% in all data ({} observations considered)\".format(fraud_outlier_percent, fraud_percent, df_outlier.dim[0]))\n",
    "    return fraud_outlier_percent"
   ]
  },
  {
   "cell_type": "markdown",
   "metadata": {},
   "source": [
    "Percentage of frauds in top"
   ]
  },
  {
   "cell_type": "code",
   "execution_count": 92,
   "metadata": {
    "collapsed": true
   },
   "outputs": [],
   "source": [
    "def fraud_in_outlier_top(df, outlier_column, top):\n",
    "    \"\"\"\n",
    "    Percentage of fraud for the method named outlier_column (PCA, NN, ...) in top n observations.\n",
    "    \"\"\"\n",
    "    assert(isinstance(top,int))\n",
    "    assert(isinstance(outlier_column,str))\n",
    "    assert(isinstance(df,h2o.H2OFrame))\n",
    "    fraud_percent = float(df[df['fraud']]['fraud'].dim[0] ) / df['fraud'].dim[0] *100\n",
    "    df = df.as_data_frame().sort_values(outlier_column, ascending=False)\n",
    "    fraud_outlier_percent = (df.head(top).copy().fraud.sum() / top) *100\n",
    "    print(\"> {}% of fraud in outlier while {}% in all data ({} observations considered (not normalized!))\".format(fraud_outlier_percent, fraud_percent, top))\n",
    "    return fraud_outlier_percent"
   ]
  },
  {
   "cell_type": "markdown",
   "metadata": {},
   "source": [
    "# Auto-encoder"
   ]
  },
  {
   "cell_type": "markdown",
   "metadata": {},
   "source": [
    "Here the reconstruction error of the replicator neural network is used as outlier score\n",
    "\n",
    "We will used a decreasing number of hidden layer at each step with a minimum for the central hidden layer"
   ]
  },
  {
   "cell_type": "markdown",
   "metadata": {},
   "source": [
    "Example of using an autoencoder from h2o doc : https://github.com/nits555/h2o-3/blob/43dd8d37e990e2a3311613b66ee8d2ab65695184/h2o-docs/src/booklets/v2_2015/source/DeepLearning_Vignette_code_examples/deeplearning_anomaly.py"
   ]
  },
  {
   "cell_type": "markdown",
   "metadata": {},
   "source": [
    "#### Structure definition"
   ]
  },
  {
   "cell_type": "code",
   "execution_count": 21,
   "metadata": {
    "collapsed": true
   },
   "outputs": [],
   "source": [
    "hd1 = len(X_autoenc) - 2\n",
    "hd3 = len(X_autoenc) - 2\n",
    "hidden_structure = [hd1, hd3]"
   ]
  },
  {
   "cell_type": "code",
   "execution_count": 22,
   "metadata": {},
   "outputs": [
    {
     "data": {
      "text/plain": [
       "['V1',\n",
       " 'V2',\n",
       " 'V3',\n",
       " 'V4',\n",
       " 'V5',\n",
       " 'V6',\n",
       " 'V7',\n",
       " 'V8',\n",
       " 'V9',\n",
       " 'V10',\n",
       " 'V11',\n",
       " 'V12',\n",
       " 'V13',\n",
       " 'V14',\n",
       " 'V15',\n",
       " 'V16',\n",
       " 'V17',\n",
       " 'V18',\n",
       " 'V19',\n",
       " 'V20',\n",
       " 'V21',\n",
       " 'V22',\n",
       " 'V23',\n",
       " 'V24',\n",
       " 'V25',\n",
       " 'V26',\n",
       " 'V27',\n",
       " 'V28',\n",
       " 'amount']"
      ]
     },
     "execution_count": 22,
     "metadata": {},
     "output_type": "execute_result"
    }
   ],
   "source": [
    "X_autoenc"
   ]
  },
  {
   "cell_type": "markdown",
   "metadata": {},
   "source": [
    "#### Learning"
   ]
  },
  {
   "cell_type": "code",
   "execution_count": 23,
   "metadata": {
    "collapsed": true
   },
   "outputs": [],
   "source": [
    "autoenc = h2o.estimators.deeplearning.H2OAutoEncoderEstimator(hidden=hidden_structure, epochs=200, activation='tanh', autoencoder=True)"
   ]
  },
  {
   "cell_type": "code",
   "execution_count": 24,
   "metadata": {},
   "outputs": [
    {
     "name": "stdout",
     "output_type": "stream",
     "text": [
      "deeplearning Model Build progress: |██████████████████████████████████████| 100%\n"
     ]
    }
   ],
   "source": [
    "autoenc.train(x                = X_autoenc, \n",
    "              training_frame   = df_train_unbalanced) # We learn on unbalanced dataset in order to define a 'normal' behavor"
   ]
  },
  {
   "cell_type": "markdown",
   "metadata": {},
   "source": [
    "#### Learning result"
   ]
  },
  {
   "cell_type": "code",
   "execution_count": 25,
   "metadata": {},
   "outputs": [
    {
     "name": "stdout",
     "output_type": "stream",
     "text": [
      "Model Details\n",
      "=============\n",
      "H2OAutoEncoderEstimator :  Deep Learning\n",
      "Model Key:  DeepLearning_model_python_1495800034122_6\n",
      "\n",
      "\n",
      "ModelMetricsAutoEncoder: deeplearning\n",
      "** Reported on train data. **\n",
      "\n",
      "MSE: 1.4478672525724291e-05\n",
      "RMSE: 0.0038050850878428846\n",
      "Scoring History: \n"
     ]
    },
    {
     "data": {
      "text/html": [
       "<div style=\"overflow:auto\"><table style=\"width:50%\"><tr><td><b></b></td>\n",
       "<td><b>timestamp</b></td>\n",
       "<td><b>duration</b></td>\n",
       "<td><b>training_speed</b></td>\n",
       "<td><b>epochs</b></td>\n",
       "<td><b>iterations</b></td>\n",
       "<td><b>samples</b></td>\n",
       "<td><b>training_rmse</b></td>\n",
       "<td><b>training_mse</b></td></tr>\n",
       "<tr><td></td>\n",
       "<td>2017-05-26 14:32:09</td>\n",
       "<td> 0.084 sec</td>\n",
       "<td>0.00000 obs/sec</td>\n",
       "<td>0.0</td>\n",
       "<td>0</td>\n",
       "<td>0.0</td>\n",
       "<td>0.0632057</td>\n",
       "<td>0.0039950</td></tr>\n",
       "<tr><td></td>\n",
       "<td>2017-05-26 14:32:17</td>\n",
       "<td> 8.099 sec</td>\n",
       "<td>25149 obs/sec</td>\n",
       "<td>1.0828324</td>\n",
       "<td>2</td>\n",
       "<td>200115.0</td>\n",
       "<td>0.0038051</td>\n",
       "<td>0.0000145</td></tr>\n",
       "<tr><td></td>\n",
       "<td>2017-05-26 14:32:26</td>\n",
       "<td>16.759 sec</td>\n",
       "<td>24107 obs/sec</td>\n",
       "<td>2.1621962</td>\n",
       "<td>4</td>\n",
       "<td>399589.0</td>\n",
       "<td>0.0041384</td>\n",
       "<td>0.0000171</td></tr>\n",
       "<tr><td></td>\n",
       "<td>2017-05-26 14:32:34</td>\n",
       "<td>24.160 sec</td>\n",
       "<td>25057 obs/sec</td>\n",
       "<td>3.2452396</td>\n",
       "<td>6</td>\n",
       "<td>599743.0</td>\n",
       "<td>0.0041310</td>\n",
       "<td>0.0000171</td></tr>\n",
       "<tr><td></td>\n",
       "<td>2017-05-26 14:32:42</td>\n",
       "<td>32.320 sec</td>\n",
       "<td>24995 obs/sec</td>\n",
       "<td>4.3280071</td>\n",
       "<td>8</td>\n",
       "<td>799846.0</td>\n",
       "<td>0.0039521</td>\n",
       "<td>0.0000156</td></tr>\n",
       "<tr><td></td>\n",
       "<td>2017-05-26 14:32:49</td>\n",
       "<td>40.003 sec</td>\n",
       "<td>25220 obs/sec</td>\n",
       "<td>5.4083395</td>\n",
       "<td>10</td>\n",
       "<td>999499.0</td>\n",
       "<td>0.0052469</td>\n",
       "<td>0.0000275</td></tr>\n",
       "<tr><td></td>\n",
       "<td>2017-05-26 14:32:57</td>\n",
       "<td>47.717 sec</td>\n",
       "<td>25484 obs/sec</td>\n",
       "<td>6.4902412</td>\n",
       "<td>12</td>\n",
       "<td>1199442.0</td>\n",
       "<td>0.0040000</td>\n",
       "<td>0.0000160</td></tr>\n",
       "<tr><td></td>\n",
       "<td>2017-05-26 14:33:05</td>\n",
       "<td>55.543 sec</td>\n",
       "<td>25531 obs/sec</td>\n",
       "<td>7.5733062</td>\n",
       "<td>14</td>\n",
       "<td>1399600.0</td>\n",
       "<td>0.0043262</td>\n",
       "<td>0.0000187</td></tr>\n",
       "<tr><td></td>\n",
       "<td>2017-05-26 14:33:15</td>\n",
       "<td> 1 min  5.987 sec</td>\n",
       "<td>24568 obs/sec</td>\n",
       "<td>8.6564849</td>\n",
       "<td>16</td>\n",
       "<td>1599779.0</td>\n",
       "<td>0.0087941</td>\n",
       "<td>0.0000773</td></tr>\n",
       "<tr><td></td>\n",
       "<td>2017-05-26 14:33:21</td>\n",
       "<td> 1 min 12.048 sec</td>\n",
       "<td>25316 obs/sec</td>\n",
       "<td>9.7401235</td>\n",
       "<td>18</td>\n",
       "<td>1800043.0</td>\n",
       "<td>0.0059584</td>\n",
       "<td>0.0000355</td></tr>\n",
       "<tr><td></td>\n",
       "<td>2017-05-26 14:33:27</td>\n",
       "<td> 1 min 17.944 sec</td>\n",
       "<td>25992 obs/sec</td>\n",
       "<td>10.8228152</td>\n",
       "<td>20</td>\n",
       "<td>2000132.0</td>\n",
       "<td>0.0048190</td>\n",
       "<td>0.0000232</td></tr>\n",
       "<tr><td></td>\n",
       "<td>2017-05-26 14:33:27</td>\n",
       "<td> 1 min 17.996 sec</td>\n",
       "<td>25992 obs/sec</td>\n",
       "<td>10.8228152</td>\n",
       "<td>20</td>\n",
       "<td>2000132.0</td>\n",
       "<td>0.0038051</td>\n",
       "<td>0.0000145</td></tr></table></div>"
      ],
      "text/plain": [
       "    timestamp            duration          training_speed    epochs    iterations    samples      training_rmse    training_mse\n",
       "--  -------------------  ----------------  ----------------  --------  ------------  -----------  ---------------  --------------\n",
       "    2017-05-26 14:32:09  0.084 sec         0.00000 obs/sec   0         0             0            0.0632057        0.00399496\n",
       "    2017-05-26 14:32:17  8.099 sec         25149 obs/sec     1.08283   2             200115       0.00380509       1.44787e-05\n",
       "    2017-05-26 14:32:26  16.759 sec        24107 obs/sec     2.1622    4             399589       0.00413836       1.7126e-05\n",
       "    2017-05-26 14:32:34  24.160 sec        25057 obs/sec     3.24524   6             599743       0.00413098       1.7065e-05\n",
       "    2017-05-26 14:32:42  32.320 sec        24995 obs/sec     4.32801   8             799846       0.00395214       1.56194e-05\n",
       "    2017-05-26 14:32:49  40.003 sec        25220 obs/sec     5.40834   10            999499       0.00524687       2.75296e-05\n",
       "    2017-05-26 14:32:57  47.717 sec        25484 obs/sec     6.49024   12            1.19944e+06  0.00400003       1.60003e-05\n",
       "    2017-05-26 14:33:05  55.543 sec        25531 obs/sec     7.57331   14            1.3996e+06   0.00432618       1.87158e-05\n",
       "    2017-05-26 14:33:15  1 min  5.987 sec  24568 obs/sec     8.65648   16            1.59978e+06  0.00879411       7.73363e-05\n",
       "    2017-05-26 14:33:21  1 min 12.048 sec  25316 obs/sec     9.74012   18            1.80004e+06  0.00595844       3.5503e-05\n",
       "    2017-05-26 14:33:27  1 min 17.944 sec  25992 obs/sec     10.8228   20            2.00013e+06  0.00481896       2.32224e-05\n",
       "    2017-05-26 14:33:27  1 min 17.996 sec  25992 obs/sec     10.8228   20            2.00013e+06  0.00380509       1.44787e-05"
      ]
     },
     "metadata": {},
     "output_type": "display_data"
    },
    {
     "name": "stdout",
     "output_type": "stream",
     "text": [
      "\n"
     ]
    }
   ],
   "source": [
    "print(autoenc)"
   ]
  },
  {
   "cell_type": "markdown",
   "metadata": {},
   "source": [
    "#### Anomalies detection"
   ]
  },
  {
   "cell_type": "markdown",
   "metadata": {},
   "source": [
    "Anomaly return the reconstruction error : the mean square error"
   ]
  },
  {
   "cell_type": "code",
   "execution_count": 26,
   "metadata": {
    "collapsed": true
   },
   "outputs": [],
   "source": [
    "autoenc_outlier_train = autoenc.anomaly(df_train_unbalanced[X_autoenc])"
   ]
  },
  {
   "cell_type": "code",
   "execution_count": 27,
   "metadata": {
    "collapsed": true
   },
   "outputs": [],
   "source": [
    "autoenc_outlier_validtest = autoenc.anomaly(df_validtest[X_autoenc])"
   ]
  },
  {
   "cell_type": "code",
   "execution_count": 28,
   "metadata": {
    "collapsed": true
   },
   "outputs": [],
   "source": [
    "df_train_unbalanced[\"outlier_autoenc\"] = autoenc_outlier_train\n",
    "df_validtest[\"outlier_autoenc\"] = autoenc_outlier_validtest"
   ]
  },
  {
   "cell_type": "markdown",
   "metadata": {},
   "source": [
    "# PCA (sklearn)"
   ]
  },
  {
   "cell_type": "code",
   "execution_count": 30,
   "metadata": {
    "collapsed": true,
    "scrolled": false
   },
   "outputs": [],
   "source": [
    "pca_data = df_train_unbalanced[X_pca].as_data_frame() #.dropna()\n",
    "scaler = StandardScaler()\n",
    "pca_data = scaler.fit_transform(pca_data)"
   ]
  },
  {
   "cell_type": "code",
   "execution_count": 31,
   "metadata": {},
   "outputs": [
    {
     "data": {
      "text/plain": [
       "array([-0.65303302, -0.05669755,  1.50034241,  0.92684611, -0.14342964,\n",
       "        0.31360358,  0.25192171,  0.06095137,  0.3062364 ,  0.10034654,\n",
       "       -0.67960464, -0.47799813, -1.00120486, -0.38651324,  1.43672991,\n",
       "       -0.52492232,  0.1934398 ,  0.08323435,  0.51435717,  0.30658163,\n",
       "        0.00261813,  0.50383168, -0.15299291,  0.10038666,  0.10980927,\n",
       "       -0.40565372,  0.33545488, -0.07517851,  0.24604144])"
      ]
     },
     "execution_count": 31,
     "metadata": {},
     "output_type": "execute_result"
    }
   ],
   "source": [
    "pca_data[0]"
   ]
  },
  {
   "cell_type": "code",
   "execution_count": 32,
   "metadata": {
    "collapsed": true
   },
   "outputs": [],
   "source": [
    "pca = PCA(n_components=K_COMPONENTS)\n",
    "pcafit = pca.fit_transform(pca_data)"
   ]
  },
  {
   "cell_type": "code",
   "execution_count": 33,
   "metadata": {},
   "outputs": [
    {
     "data": {
      "text/plain": [
       "array([ 0.0691448 ,  0.04965898,  0.04665676,  0.04268248,  0.04141516,\n",
       "        0.03922256,  0.03768776,  0.03694641,  0.03622515,  0.03600767,\n",
       "        0.03561654,  0.03540865,  0.03496107,  0.03460562,  0.03436162,\n",
       "        0.03382436,  0.03357227,  0.03285833,  0.03264493,  0.03198605,\n",
       "        0.03142355,  0.03116115,  0.03034153,  0.02971687,  0.02703233,\n",
       "        0.02661704])"
      ]
     },
     "execution_count": 33,
     "metadata": {},
     "output_type": "execute_result"
    }
   ],
   "source": [
    "pca.explained_variance_ratio_"
   ]
  },
  {
   "cell_type": "code",
   "execution_count": 34,
   "metadata": {},
   "outputs": [
    {
     "data": {
      "text/plain": [
       "0.95177965108903972"
      ]
     },
     "execution_count": 34,
     "metadata": {},
     "output_type": "execute_result"
    }
   ],
   "source": [
    "pca.explained_variance_ratio_.sum()"
   ]
  },
  {
   "cell_type": "code",
   "execution_count": 35,
   "metadata": {
    "collapsed": true
   },
   "outputs": [],
   "source": [
    "pcareconstruct = pca.inverse_transform(pcafit)"
   ]
  },
  {
   "cell_type": "code",
   "execution_count": 36,
   "metadata": {},
   "outputs": [
    {
     "name": "stdout",
     "output_type": "stream",
     "text": [
      "Parse progress: |█████████████████████████████████████████████████████████| 100%\n"
     ]
    }
   ],
   "source": [
    "outlier_pca = pd.DataFrame(np.mean(np.square(pcareconstruct - pca_data), axis=1))\n",
    "outlier_pca.columns = [\"outlier_pca\"]                           \n",
    "df_train_unbalanced[\"outlier_pca\"] = h2o.H2OFrame(outlier_pca)"
   ]
  },
  {
   "cell_type": "code",
   "execution_count": 37,
   "metadata": {
    "collapsed": true
   },
   "outputs": [],
   "source": [
    "pca_data = df_validtest[X_pca].as_data_frame()\n",
    "pca_data = scaler.transform(pca_data)"
   ]
  },
  {
   "cell_type": "code",
   "execution_count": 38,
   "metadata": {
    "collapsed": true
   },
   "outputs": [],
   "source": [
    "pcafit = pca.transform(pca_data)"
   ]
  },
  {
   "cell_type": "code",
   "execution_count": 39,
   "metadata": {
    "collapsed": true
   },
   "outputs": [],
   "source": [
    "pcareconstruct = pca.inverse_transform(pcafit)"
   ]
  },
  {
   "cell_type": "code",
   "execution_count": 40,
   "metadata": {},
   "outputs": [
    {
     "name": "stdout",
     "output_type": "stream",
     "text": [
      "Parse progress: |█████████████████████████████████████████████████████████| 100%\n"
     ]
    }
   ],
   "source": [
    "outlier_pca = pd.DataFrame(np.mean(np.square(pcareconstruct - pca_data), axis=1))\n",
    "outlier_pca.columns = [\"outlier_pca\"]                           \n",
    "df_validtest[\"outlier_pca\"] = h2o.H2OFrame(outlier_pca)"
   ]
  },
  {
   "cell_type": "code",
   "execution_count": 41,
   "metadata": {
    "collapsed": true
   },
   "outputs": [],
   "source": [
    "## if you run out of memory, do an explicit garbage collection at this point\n",
    "#del pcareconstruct, outlier_pca, pca_data, pcafit"
   ]
  },
  {
   "cell_type": "markdown",
   "metadata": {},
   "source": [
    "# Z-score"
   ]
  },
  {
   "cell_type": "code",
   "execution_count": 42,
   "metadata": {
    "collapsed": true
   },
   "outputs": [],
   "source": [
    "zscore_data = df_train_unbalanced[X_zscore].as_data_frame() # TODO X_pca\n",
    "scaler = StandardScaler()\n",
    "zscore_data = scaler.fit_transform(zscore_data)"
   ]
  },
  {
   "cell_type": "code",
   "execution_count": 43,
   "metadata": {
    "collapsed": true
   },
   "outputs": [],
   "source": [
    "zscorefit = pca.fit_transform(zscore_data)"
   ]
  },
  {
   "cell_type": "code",
   "execution_count": 44,
   "metadata": {},
   "outputs": [
    {
     "name": "stdout",
     "output_type": "stream",
     "text": [
      "Parse progress: |█████████████████████████████████████████████████████████| 100%\n"
     ]
    }
   ],
   "source": [
    "outlier_zscore = pd.DataFrame(np.mean(np.square(zscorefit), axis=1))\n",
    "outlier_zscore.columns = [\"outlier_zscore\"]                           \n",
    "df_train_unbalanced[\"outlier_zscore\"] = h2o.H2OFrame(outlier_zscore)"
   ]
  },
  {
   "cell_type": "code",
   "execution_count": 45,
   "metadata": {
    "collapsed": true
   },
   "outputs": [],
   "source": [
    "zscore_data_valid = df_validtest[X_zscore].as_data_frame() # TODO X_pca\n",
    "zscoretrans_valid = scaler.transform(zscore_data_valid)"
   ]
  },
  {
   "cell_type": "code",
   "execution_count": 46,
   "metadata": {},
   "outputs": [
    {
     "name": "stdout",
     "output_type": "stream",
     "text": [
      "Parse progress: |█████████████████████████████████████████████████████████| 100%\n"
     ]
    }
   ],
   "source": [
    "outlier_zscore = pd.DataFrame(np.mean(np.square(zscoretrans_valid), axis=1))\n",
    "outlier_zscore.columns = [\"outlier_zscore\"]                           \n",
    "df_validtest[\"outlier_zscore\"] = h2o.H2OFrame(outlier_zscore)"
   ]
  },
  {
   "cell_type": "markdown",
   "metadata": {},
   "source": [
    "# Ensemble"
   ]
  },
  {
   "cell_type": "code",
   "execution_count": 47,
   "metadata": {
    "collapsed": true
   },
   "outputs": [],
   "source": [
    "gaussian_norm = True"
   ]
  },
  {
   "cell_type": "code",
   "execution_count": 48,
   "metadata": {
    "collapsed": true
   },
   "outputs": [],
   "source": [
    "def gaussian_norm(series):\n",
    "    mu = series.mean()\n",
    "    std = series.std()\n",
    "    series = np.array(series)\n",
    "    series = (series - mu) / (std * np.sqrt(2))\n",
    "    series = erf(series)\n",
    "    series = [max(0,s) for s in series]\n",
    "    return series"
   ]
  },
  {
   "cell_type": "code",
   "execution_count": 49,
   "metadata": {
    "collapsed": true
   },
   "outputs": [],
   "source": [
    "ensemble_df_train = df_train_unbalanced[OUTLIER_COLUMNS].as_data_frame()"
   ]
  },
  {
   "cell_type": "code",
   "execution_count": 50,
   "metadata": {
    "collapsed": true
   },
   "outputs": [],
   "source": [
    "if gaussian_norm:\n",
    "    ensemble_df_train = ensemble_df_train.apply(gaussian_norm)\n",
    "else:\n",
    "    scaler_ensemble_train = MinMaxScaler()\n",
    "    ensemble_df_train = scaler_ensemble_train.fit_transform(ensemble_df_train)"
   ]
  },
  {
   "cell_type": "code",
   "execution_count": 51,
   "metadata": {},
   "outputs": [
    {
     "data": {
      "application/vnd.plotly.v1+json": {
       "data": [
        {
         "histnorm": "probability",
         "type": "histogram",
         "x": [
          0.6083873643198646,
          0.06981731539281248,
          0.6361640715078841,
          0.9989929955153877,
          0.5266697855255975,
          0.8334096770378588,
          0.8925858009418658,
          0.672595831035214,
          0.6230459304092503,
          0.8994519474809988,
          0.8454312864250761,
          0.6612016760173136,
          0.9081374991925875,
          0.908335763522035,
          0.645825812432541,
          0.9952699751354819,
          0.9859310852311961,
          0.9404671434356938,
          0.9462725965670742,
          0.9522761562180524,
          0.9542582312751724,
          0.9861573606918009,
          0.9654403758509361,
          0.9678178424033302,
          0.861971263587058,
          1,
          0.569671604412067,
          1,
          1,
          0.6468566372585771,
          0.9700993002462723,
          0.952087020429024,
          0.7501761462952186,
          1,
          1,
          1,
          1,
          1,
          0.6610463830709137,
          0,
          0,
          0,
          1,
          1,
          1,
          1,
          1,
          1,
          1,
          1,
          1,
          1,
          1,
          1,
          1,
          1,
          0,
          0.9545350169546286,
          0.9828351444214734,
          0.9871897484836912,
          0,
          0.9947277384113037,
          0.9970447495598351,
          0.9986721427830733,
          0.9994999536079175,
          0.9998463094809469,
          0.999962624402016,
          0.9999930619322219,
          0.9999990566347261,
          0.9999999103729487,
          0.9999999943606558,
          0.9999999997788642,
          0.9999999999949543,
          0.7911386206679006,
          0.9999999999999994,
          0.821183013050583,
          1,
          1,
          1,
          1,
          1,
          0.4265268590331988,
          0.4839574625321456,
          0.9149338713357115,
          0.7615677546048527,
          0.04032709778962327,
          0.783146390318765,
          0.8343524922619079,
          0.4763193614096883,
          0,
          0.7278769002981165,
          0.9651311434194652,
          0.9869476639930981,
          0,
          0.959905604946571,
          0.9991560783809007,
          0.9990917435167171,
          0.9993199078047287,
          0.9993195094727642,
          0.999931220552206,
          0.9764618142477435,
          0.9800378697136135,
          0.9758837559722648,
          0.05802685165947246,
          0,
          0.40159221528040484,
          0.7633816979110731,
          0.775674744945267,
          1,
          0.9793869150163406,
          0.9284241460716198,
          1,
          1,
          1,
          1,
          1,
          1,
          1,
          1,
          1,
          1,
          1,
          1,
          1,
          1,
          1,
          1,
          1,
          1,
          1,
          1,
          1,
          1,
          0.805419595642115,
          1,
          0.9696661356176275,
          0.7773515750280564,
          0.9498907717733632,
          1,
          1,
          0.9496765350970785,
          0.6796030783208937,
          0.6022011379641766,
          0.9997859287639147,
          0.9994294893494757,
          0.8724139466560521,
          0.9570217079816815,
          0.733022585889912,
          0.9463554982634809,
          0,
          0.7742720097133365,
          0,
          0.8078988262679724,
          0.7784213887700915,
          0.8120991923655582,
          0,
          0,
          0,
          0.7955990167481142,
          0.8287083800250529,
          0,
          0,
          0.824411506096095,
          0.5415611989115621,
          0.9520059477317291,
          0.9513142339303879,
          0.9519512324258104,
          0.9523416894776076,
          0.9524905486329507,
          0.019214922715588473,
          0,
          0.7583168007723162,
          0,
          0.8355281102707781,
          0.7314515834765888,
          0.8317969931760052,
          0.8304960248621319,
          0,
          0.9989020813325693,
          0.9972091914390335,
          0.9980636845171569,
          0.9965832095359972,
          0.1572504010079275,
          0.7859818443000282,
          0.9994489281364981,
          0.9991326690433423,
          0.8590796788383139,
          0.9159458662822917,
          0.9483728079005982,
          0.9651016591373299,
          0.9999886455272563,
          0.9970453304801818,
          0.6619155264439672,
          0.7308556745690358,
          0,
          0.8012332125209948,
          0.9231474674578437,
          0.9663562221172797,
          0.8007781890999132,
          0.8322206953582111,
          0.7467265423421481,
          0.8688324944151828,
          0.9430236761528067,
          0.9792562232858257,
          0.8306675299147558,
          0.55645693542367,
          0.8299300375644825,
          0.8709244953211344,
          0,
          0.984758249477077,
          0.982273499812006,
          0,
          0.9962877632733469,
          0.7501786336551513,
          0,
          0,
          0.9962507919216858,
          0,
          0.9310453017031822,
          0,
          0.8499314701703857,
          0.7740860117578454,
          0.8414246469692693,
          0,
          0,
          1,
          1,
          1,
          1,
          1,
          1,
          0,
          0,
          0.928234972790152,
          0.8033491821278423,
          0.8132644046940585,
          0.8280867609806795,
          0,
          0.9364653176867694,
          0.9306827738080409,
          0,
          0.8059944514909747,
          0.7900720396361516,
          0.6470728865560296,
          0,
          0,
          0.9944541969696131,
          0.973863998087028,
          0.9657700984175999,
          0.9632093751586165,
          0.9683998792803927,
          0,
          0,
          0,
          0,
          0,
          0,
          0.3994049729394225,
          0.005492548795245592,
          0.9944455947709654,
          0.7713432415407978,
          0,
          0.8367398614283841,
          0.5059727339307093,
          0.9546301450822804,
          0.9997798319417542,
          0.9997798319417542,
          0.9987635241142223,
          0.9987635241142223,
          0.9967419352732813,
          0,
          0.8231438916342755,
          0.976627013895366,
          0.976627013895366,
          0.9744983675168829,
          0.9744983675168829,
          0.97513000981807,
          0.9628313617439423,
          0.9594635964364492,
          0.989865723179891,
          0,
          0.04388969667367277,
          0.016466974476564273,
          0.9828121946899518,
          0,
          0.3885888582372941,
          0.658529453585436,
          0.9401439607163133,
          0.10687239744534036,
          0.13740148368127594,
          0.6480581882090084,
          0.749782186417742,
          0.7143014813963867,
          1,
          1,
          1,
          1,
          1,
          1,
          1,
          1,
          1,
          1,
          1,
          1,
          1,
          1,
          1,
          1,
          1,
          1,
          1,
          1,
          1,
          1,
          1,
          1,
          1,
          1,
          1,
          1,
          0.008407662571471908,
          0,
          1,
          1,
          0.8876308567737006,
          0.8603936535383728,
          0.9197622009878806,
          1,
          1,
          1,
          1,
          0.7826937055203269,
          1,
          0.9999999163481565,
          1,
          0.7049367879434632,
          1,
          0.7317672481709827,
          0.9999977343663122,
          0.9999998076394088,
          0.9999999767515194,
          1,
          0.9993036197691388,
          0.9951921807288068,
          0.9997932118222702,
          0.9994097621086021,
          0.9990756751530054,
          0.9991112578155249,
          0.8270012484197171,
          0.8672033351982086,
          0.8438761369376532,
          0,
          0.9566796959079217,
          0.9742587382225354,
          0,
          0.9655811795315116,
          0.8261097698440647,
          0.8530727182055917,
          0.8422076546408234,
          0.9563360023481683,
          0,
          0.8865145843408153,
          0.997769005025601,
          0.667751452007091,
          0,
          0.28166485351554704,
          0.6328789905426395
         ]
        }
       ],
       "layout": {
        "title": "Frauds distribution across outlier_autoenc outlier score"
       }
      },
      "text/html": [
       "<div id=\"c8286939-222b-43ec-9429-7cab57c82400\" style=\"height: 525px; width: 100%;\" class=\"plotly-graph-div\"></div><script type=\"text/javascript\">require([\"plotly\"], function(Plotly) { window.PLOTLYENV=window.PLOTLYENV || {};window.PLOTLYENV.BASE_URL=\"https://plot.ly\";Plotly.newPlot(\"c8286939-222b-43ec-9429-7cab57c82400\", [{\"type\": \"histogram\", \"x\": [0.6083873643198646, 0.06981731539281248, 0.6361640715078841, 0.9989929955153877, 0.5266697855255975, 0.8334096770378588, 0.8925858009418658, 0.672595831035214, 0.6230459304092503, 0.8994519474809988, 0.8454312864250761, 0.6612016760173136, 0.9081374991925875, 0.908335763522035, 0.645825812432541, 0.9952699751354819, 0.9859310852311961, 0.9404671434356938, 0.9462725965670742, 0.9522761562180524, 0.9542582312751724, 0.9861573606918009, 0.9654403758509361, 0.9678178424033302, 0.861971263587058, 1.0, 0.569671604412067, 1.0, 1.0, 0.6468566372585771, 0.9700993002462723, 0.952087020429024, 0.7501761462952186, 1.0, 1.0, 1.0, 1.0, 1.0, 0.6610463830709137, 0.0, 0.0, 0.0, 1.0, 1.0, 1.0, 1.0, 1.0, 1.0, 1.0, 1.0, 1.0, 1.0, 1.0, 1.0, 1.0, 1.0, 0.0, 0.9545350169546286, 0.9828351444214734, 0.9871897484836912, 0.0, 0.9947277384113037, 0.9970447495598351, 0.9986721427830733, 0.9994999536079175, 0.9998463094809469, 0.999962624402016, 0.9999930619322219, 0.9999990566347261, 0.9999999103729487, 0.9999999943606558, 0.9999999997788642, 0.9999999999949543, 0.7911386206679006, 0.9999999999999994, 0.821183013050583, 1.0, 1.0, 1.0, 1.0, 1.0, 0.4265268590331988, 0.4839574625321456, 0.9149338713357115, 0.7615677546048527, 0.04032709778962327, 0.783146390318765, 0.8343524922619079, 0.4763193614096883, 0.0, 0.7278769002981165, 0.9651311434194652, 0.9869476639930981, 0.0, 0.959905604946571, 0.9991560783809007, 0.9990917435167171, 0.9993199078047287, 0.9993195094727642, 0.999931220552206, 0.9764618142477435, 0.9800378697136135, 0.9758837559722648, 0.05802685165947246, 0.0, 0.40159221528040484, 0.7633816979110731, 0.775674744945267, 1.0, 0.9793869150163406, 0.9284241460716198, 1.0, 1.0, 1.0, 1.0, 1.0, 1.0, 1.0, 1.0, 1.0, 1.0, 1.0, 1.0, 1.0, 1.0, 1.0, 1.0, 1.0, 1.0, 1.0, 1.0, 1.0, 1.0, 0.805419595642115, 1.0, 0.9696661356176275, 0.7773515750280564, 0.9498907717733632, 1.0, 1.0, 0.9496765350970785, 0.6796030783208937, 0.6022011379641766, 0.9997859287639147, 0.9994294893494757, 0.8724139466560521, 0.9570217079816815, 0.733022585889912, 0.9463554982634809, 0.0, 0.7742720097133365, 0.0, 0.8078988262679724, 0.7784213887700915, 0.8120991923655582, 0.0, 0.0, 0.0, 0.7955990167481142, 0.8287083800250529, 0.0, 0.0, 0.824411506096095, 0.5415611989115621, 0.9520059477317291, 0.9513142339303879, 0.9519512324258104, 0.9523416894776076, 0.9524905486329507, 0.019214922715588473, 0.0, 0.7583168007723162, 0.0, 0.8355281102707781, 0.7314515834765888, 0.8317969931760052, 0.8304960248621319, 0.0, 0.9989020813325693, 0.9972091914390335, 0.9980636845171569, 0.9965832095359972, 0.1572504010079275, 0.7859818443000282, 0.9994489281364981, 0.9991326690433423, 0.8590796788383139, 0.9159458662822917, 0.9483728079005982, 0.9651016591373299, 0.9999886455272563, 0.9970453304801818, 0.6619155264439672, 0.7308556745690358, 0.0, 0.8012332125209948, 0.9231474674578437, 0.9663562221172797, 0.8007781890999132, 0.8322206953582111, 0.7467265423421481, 0.8688324944151828, 0.9430236761528067, 0.9792562232858257, 0.8306675299147558, 0.55645693542367, 0.8299300375644825, 0.8709244953211344, 0.0, 0.984758249477077, 0.982273499812006, 0.0, 0.9962877632733469, 0.7501786336551513, 0.0, 0.0, 0.9962507919216858, 0.0, 0.9310453017031822, 0.0, 0.8499314701703857, 0.7740860117578454, 0.8414246469692693, 0.0, 0.0, 1.0, 1.0, 1.0, 1.0, 1.0, 1.0, 0.0, 0.0, 0.928234972790152, 0.8033491821278423, 0.8132644046940585, 0.8280867609806795, 0.0, 0.9364653176867694, 0.9306827738080409, 0.0, 0.8059944514909747, 0.7900720396361516, 0.6470728865560296, 0.0, 0.0, 0.9944541969696131, 0.973863998087028, 0.9657700984175999, 0.9632093751586165, 0.9683998792803927, 0.0, 0.0, 0.0, 0.0, 0.0, 0.0, 0.3994049729394225, 0.005492548795245592, 0.9944455947709654, 0.7713432415407978, 0.0, 0.8367398614283841, 0.5059727339307093, 0.9546301450822804, 0.9997798319417542, 0.9997798319417542, 0.9987635241142223, 0.9987635241142223, 0.9967419352732813, 0.0, 0.8231438916342755, 0.976627013895366, 0.976627013895366, 0.9744983675168829, 0.9744983675168829, 0.97513000981807, 0.9628313617439423, 0.9594635964364492, 0.989865723179891, 0.0, 0.04388969667367277, 0.016466974476564273, 0.9828121946899518, 0.0, 0.3885888582372941, 0.658529453585436, 0.9401439607163133, 0.10687239744534036, 0.13740148368127594, 0.6480581882090084, 0.749782186417742, 0.7143014813963867, 1.0, 1.0, 1.0, 1.0, 1.0, 1.0, 1.0, 1.0, 1.0, 1.0, 1.0, 1.0, 1.0, 1.0, 1.0, 1.0, 1.0, 1.0, 1.0, 1.0, 1.0, 1.0, 1.0, 1.0, 1.0, 1.0, 1.0, 1.0, 0.008407662571471908, 0.0, 1.0, 1.0, 0.8876308567737006, 0.8603936535383728, 0.9197622009878806, 1.0, 1.0, 1.0, 1.0, 0.7826937055203269, 1.0, 0.9999999163481565, 1.0, 0.7049367879434632, 1.0, 0.7317672481709827, 0.9999977343663122, 0.9999998076394088, 0.9999999767515194, 1.0, 0.9993036197691388, 0.9951921807288068, 0.9997932118222702, 0.9994097621086021, 0.9990756751530054, 0.9991112578155249, 0.8270012484197171, 0.8672033351982086, 0.8438761369376532, 0.0, 0.9566796959079217, 0.9742587382225354, 0.0, 0.9655811795315116, 0.8261097698440647, 0.8530727182055917, 0.8422076546408234, 0.9563360023481683, 0.0, 0.8865145843408153, 0.997769005025601, 0.667751452007091, 0.0, 0.28166485351554704, 0.6328789905426395], \"histnorm\": \"probability\"}], {\"title\": \"Frauds distribution across outlier_autoenc outlier score\"}, {\"showLink\": true, \"linkText\": \"Export to plot.ly\"})});</script>"
      ],
      "text/vnd.plotly.v1+html": [
       "<div id=\"c8286939-222b-43ec-9429-7cab57c82400\" style=\"height: 525px; width: 100%;\" class=\"plotly-graph-div\"></div><script type=\"text/javascript\">require([\"plotly\"], function(Plotly) { window.PLOTLYENV=window.PLOTLYENV || {};window.PLOTLYENV.BASE_URL=\"https://plot.ly\";Plotly.newPlot(\"c8286939-222b-43ec-9429-7cab57c82400\", [{\"type\": \"histogram\", \"x\": [0.6083873643198646, 0.06981731539281248, 0.6361640715078841, 0.9989929955153877, 0.5266697855255975, 0.8334096770378588, 0.8925858009418658, 0.672595831035214, 0.6230459304092503, 0.8994519474809988, 0.8454312864250761, 0.6612016760173136, 0.9081374991925875, 0.908335763522035, 0.645825812432541, 0.9952699751354819, 0.9859310852311961, 0.9404671434356938, 0.9462725965670742, 0.9522761562180524, 0.9542582312751724, 0.9861573606918009, 0.9654403758509361, 0.9678178424033302, 0.861971263587058, 1.0, 0.569671604412067, 1.0, 1.0, 0.6468566372585771, 0.9700993002462723, 0.952087020429024, 0.7501761462952186, 1.0, 1.0, 1.0, 1.0, 1.0, 0.6610463830709137, 0.0, 0.0, 0.0, 1.0, 1.0, 1.0, 1.0, 1.0, 1.0, 1.0, 1.0, 1.0, 1.0, 1.0, 1.0, 1.0, 1.0, 0.0, 0.9545350169546286, 0.9828351444214734, 0.9871897484836912, 0.0, 0.9947277384113037, 0.9970447495598351, 0.9986721427830733, 0.9994999536079175, 0.9998463094809469, 0.999962624402016, 0.9999930619322219, 0.9999990566347261, 0.9999999103729487, 0.9999999943606558, 0.9999999997788642, 0.9999999999949543, 0.7911386206679006, 0.9999999999999994, 0.821183013050583, 1.0, 1.0, 1.0, 1.0, 1.0, 0.4265268590331988, 0.4839574625321456, 0.9149338713357115, 0.7615677546048527, 0.04032709778962327, 0.783146390318765, 0.8343524922619079, 0.4763193614096883, 0.0, 0.7278769002981165, 0.9651311434194652, 0.9869476639930981, 0.0, 0.959905604946571, 0.9991560783809007, 0.9990917435167171, 0.9993199078047287, 0.9993195094727642, 0.999931220552206, 0.9764618142477435, 0.9800378697136135, 0.9758837559722648, 0.05802685165947246, 0.0, 0.40159221528040484, 0.7633816979110731, 0.775674744945267, 1.0, 0.9793869150163406, 0.9284241460716198, 1.0, 1.0, 1.0, 1.0, 1.0, 1.0, 1.0, 1.0, 1.0, 1.0, 1.0, 1.0, 1.0, 1.0, 1.0, 1.0, 1.0, 1.0, 1.0, 1.0, 1.0, 1.0, 0.805419595642115, 1.0, 0.9696661356176275, 0.7773515750280564, 0.9498907717733632, 1.0, 1.0, 0.9496765350970785, 0.6796030783208937, 0.6022011379641766, 0.9997859287639147, 0.9994294893494757, 0.8724139466560521, 0.9570217079816815, 0.733022585889912, 0.9463554982634809, 0.0, 0.7742720097133365, 0.0, 0.8078988262679724, 0.7784213887700915, 0.8120991923655582, 0.0, 0.0, 0.0, 0.7955990167481142, 0.8287083800250529, 0.0, 0.0, 0.824411506096095, 0.5415611989115621, 0.9520059477317291, 0.9513142339303879, 0.9519512324258104, 0.9523416894776076, 0.9524905486329507, 0.019214922715588473, 0.0, 0.7583168007723162, 0.0, 0.8355281102707781, 0.7314515834765888, 0.8317969931760052, 0.8304960248621319, 0.0, 0.9989020813325693, 0.9972091914390335, 0.9980636845171569, 0.9965832095359972, 0.1572504010079275, 0.7859818443000282, 0.9994489281364981, 0.9991326690433423, 0.8590796788383139, 0.9159458662822917, 0.9483728079005982, 0.9651016591373299, 0.9999886455272563, 0.9970453304801818, 0.6619155264439672, 0.7308556745690358, 0.0, 0.8012332125209948, 0.9231474674578437, 0.9663562221172797, 0.8007781890999132, 0.8322206953582111, 0.7467265423421481, 0.8688324944151828, 0.9430236761528067, 0.9792562232858257, 0.8306675299147558, 0.55645693542367, 0.8299300375644825, 0.8709244953211344, 0.0, 0.984758249477077, 0.982273499812006, 0.0, 0.9962877632733469, 0.7501786336551513, 0.0, 0.0, 0.9962507919216858, 0.0, 0.9310453017031822, 0.0, 0.8499314701703857, 0.7740860117578454, 0.8414246469692693, 0.0, 0.0, 1.0, 1.0, 1.0, 1.0, 1.0, 1.0, 0.0, 0.0, 0.928234972790152, 0.8033491821278423, 0.8132644046940585, 0.8280867609806795, 0.0, 0.9364653176867694, 0.9306827738080409, 0.0, 0.8059944514909747, 0.7900720396361516, 0.6470728865560296, 0.0, 0.0, 0.9944541969696131, 0.973863998087028, 0.9657700984175999, 0.9632093751586165, 0.9683998792803927, 0.0, 0.0, 0.0, 0.0, 0.0, 0.0, 0.3994049729394225, 0.005492548795245592, 0.9944455947709654, 0.7713432415407978, 0.0, 0.8367398614283841, 0.5059727339307093, 0.9546301450822804, 0.9997798319417542, 0.9997798319417542, 0.9987635241142223, 0.9987635241142223, 0.9967419352732813, 0.0, 0.8231438916342755, 0.976627013895366, 0.976627013895366, 0.9744983675168829, 0.9744983675168829, 0.97513000981807, 0.9628313617439423, 0.9594635964364492, 0.989865723179891, 0.0, 0.04388969667367277, 0.016466974476564273, 0.9828121946899518, 0.0, 0.3885888582372941, 0.658529453585436, 0.9401439607163133, 0.10687239744534036, 0.13740148368127594, 0.6480581882090084, 0.749782186417742, 0.7143014813963867, 1.0, 1.0, 1.0, 1.0, 1.0, 1.0, 1.0, 1.0, 1.0, 1.0, 1.0, 1.0, 1.0, 1.0, 1.0, 1.0, 1.0, 1.0, 1.0, 1.0, 1.0, 1.0, 1.0, 1.0, 1.0, 1.0, 1.0, 1.0, 0.008407662571471908, 0.0, 1.0, 1.0, 0.8876308567737006, 0.8603936535383728, 0.9197622009878806, 1.0, 1.0, 1.0, 1.0, 0.7826937055203269, 1.0, 0.9999999163481565, 1.0, 0.7049367879434632, 1.0, 0.7317672481709827, 0.9999977343663122, 0.9999998076394088, 0.9999999767515194, 1.0, 0.9993036197691388, 0.9951921807288068, 0.9997932118222702, 0.9994097621086021, 0.9990756751530054, 0.9991112578155249, 0.8270012484197171, 0.8672033351982086, 0.8438761369376532, 0.0, 0.9566796959079217, 0.9742587382225354, 0.0, 0.9655811795315116, 0.8261097698440647, 0.8530727182055917, 0.8422076546408234, 0.9563360023481683, 0.0, 0.8865145843408153, 0.997769005025601, 0.667751452007091, 0.0, 0.28166485351554704, 0.6328789905426395], \"histnorm\": \"probability\"}], {\"title\": \"Frauds distribution across outlier_autoenc outlier score\"}, {\"showLink\": true, \"linkText\": \"Export to plot.ly\"})});</script>"
      ]
     },
     "metadata": {},
     "output_type": "display_data"
    },
    {
     "data": {
      "application/vnd.plotly.v1+json": {
       "data": [
        {
         "histnorm": "probability",
         "type": "histogram",
         "x": [
          0.5858150693495842,
          0.05450031015460278,
          0,
          0.038352580624965826,
          1,
          1,
          1,
          1,
          1,
          0.3308081850123419,
          0.2006431124765445,
          0.1157001776352397,
          0.9584190051900489,
          0.988594162883251,
          0.9206577009905076,
          1,
          1,
          0.30590219636378957,
          0.2550099783808826,
          0.977765869625268,
          0.9781228827699877,
          0.8416799297697386,
          1,
          1,
          0.9639180442704185,
          1,
          1,
          0.50852544018915,
          1,
          0.9181875933775389,
          0.9599232170798376,
          0.046437255201211995,
          0.37310325971730884,
          0.9710948277323453,
          0.5630003817488349,
          1,
          0.9670836873280104,
          0.9662472794905863,
          0,
          0.3792170169414882,
          0.2440985872853231,
          0,
          0.9657978662044665,
          0.9447332345782135,
          0.9999999999976367,
          1,
          0.9725272899954246,
          1,
          0.8154793927871076,
          0.7890557994814119,
          0.7619649544618191,
          0.7346144913986369,
          0.7074159757475481,
          0.6807728488496015,
          0.6550704484209193,
          0.6306682832402677,
          0.8879712652097743,
          0.5143231439456285,
          0,
          0,
          0.24191358619046194,
          0,
          0,
          0.005670544829925891,
          0.03227568896329247,
          0.06058146641816417,
          0.0905390906283052,
          0.12208568029023298,
          0.1551425822129954,
          0.1896138402830009,
          0.2253848845601212,
          0.26232152345033805,
          0.30026932844084525,
          0,
          0.3152118061343649,
          0,
          0.3281755068772714,
          0.36742065859207723,
          0.4071575103021269,
          0.44716014673979876,
          0.48718746052358236,
          1,
          1,
          1,
          0.9999495721704951,
          0,
          0,
          0,
          0,
          0,
          0.024481459637353115,
          0,
          0.06036322827716045,
          0.3448339551870416,
          0,
          0,
          0,
          0,
          0,
          0,
          0,
          0.2440953882980608,
          0,
          0.05245646117982581,
          0.8617015927416869,
          1,
          1,
          0.37554826088515075,
          0.6387028269068549,
          0,
          0,
          0,
          0,
          0,
          0.7009956513475399,
          0,
          0,
          0,
          0.5831747030558219,
          0.73087899104363,
          0.6324971522152094,
          0.7426658793224334,
          0.2318548832106193,
          0.6398597424599367,
          0.2807949189756811,
          0.6517327935335732,
          0.10597114411109632,
          0,
          0,
          0.7052510991149185,
          0.5311606266014232,
          0,
          0.7192900180260106,
          0,
          0,
          0,
          0.2770151081477543,
          0,
          0.41255225111930927,
          0.4460626025668833,
          0,
          1,
          1,
          0,
          0,
          0,
          0,
          0,
          0,
          0,
          0,
          0,
          0,
          0,
          0,
          0.20344506303537702,
          0,
          0,
          0,
          0,
          0,
          0,
          0,
          0.16742685935026658,
          0,
          0,
          0,
          0,
          0,
          0,
          0,
          0,
          0,
          0,
          0,
          0,
          0,
          0,
          0,
          0.3216965422484383,
          0,
          0,
          0.20695983456504985,
          0,
          0,
          0.13140189353411336,
          0.9178358447547939,
          0,
          0.11786560481275461,
          0,
          0,
          1,
          1,
          0.20825412987966394,
          0.21324651796250496,
          0,
          0.9996321823006481,
          0,
          0,
          0,
          0,
          0.9513362635257775,
          0,
          0,
          0.13331078283340903,
          0,
          0.7256869572074017,
          0,
          0.8985762233489111,
          0.18322442727346847,
          0.5242331177562028,
          0,
          0.5179021524490274,
          0.42451158377951154,
          0.16090889969338987,
          0.07820546273029615,
          0.6730162851483167,
          0,
          0.4439442461294545,
          0,
          0,
          0,
          0,
          0,
          0,
          0.419748436648706,
          0.419748436648706,
          0.419748436648706,
          0.419748436648706,
          0.419748436648706,
          0.419748436648706,
          0,
          0.8528666056232372,
          0.1314917835319933,
          0,
          0,
          0,
          0,
          0.06337881140119321,
          0.12485989602767558,
          0,
          0,
          0,
          0.3564671481838633,
          0,
          0.49559923793610977,
          0.05278430055985976,
          0.17520886504349092,
          0.16415221868503138,
          0.047238861496215596,
          0,
          0.872965284656919,
          0.920071188322416,
          0.8950011450639563,
          0.9791201618777231,
          0,
          0.8860637846132691,
          0.8515922103096483,
          0.9879156883336487,
          0.2734208055714792,
          0.2123776133151045,
          0.27913567483556234,
          0,
          0,
          0,
          0.9012948572457483,
          0.9012948572457483,
          0.9082683424007607,
          0.9082683424007607,
          0,
          0,
          0,
          0.4214468766241496,
          0.4214468766241496,
          0.4332211754019312,
          0.4332211754019312,
          0.23707120647325303,
          0,
          0,
          0,
          0.1285489426086157,
          0.41212511954677156,
          0,
          0,
          0,
          0.7157018326430685,
          0,
          0,
          0.99999957559899,
          0.9882725604709984,
          0.12332647629201848,
          0.7711205898032334,
          0,
          0.7088079986459161,
          0.5581733737279471,
          0.46797895675713685,
          0,
          0.4082873759571138,
          0.4082873759571138,
          0.5215406424371,
          0.5215406424371,
          0,
          0.9961336892638927,
          0.9961336892638927,
          0.9999932966337115,
          0.9999932966337115,
          0,
          0,
          0.12028503551119839,
          0.12028503551119839,
          0.9990602650395487,
          0,
          0,
          0,
          0.20784882828385828,
          0.28993068103407105,
          0,
          0,
          0,
          0,
          0.7275387985663424,
          0,
          0,
          0.9923098604461105,
          0.5608151374328412,
          0,
          0.6272567336497985,
          0,
          0.6185213483917422,
          0.48680832941611424,
          0,
          0.9907849144286366,
          0.9991116076010665,
          0.8427292464804614,
          0.9999999910419374,
          0,
          0,
          0.11717407429292266,
          0.9823429304087089,
          0.762901174622693,
          0.9999997776666444,
          0,
          0,
          0.9901794979070823,
          0.29094955454416993,
          0.9945656832938818,
          0.9998361835283676,
          0.8681639315182982,
          0.8971517421409988,
          0.41034539587476615,
          0.17460552644382948,
          0.9807348682815665,
          0,
          0.9887283270584526,
          0,
          0,
          0.0882439898046849,
          0,
          0.10130976083790112,
          0.0993121971730684,
          0,
          0.631178068551805,
          0.39982664860001493,
          0.6493529583280688,
          0,
          0,
          0.9999999999999994,
          0.9734973493521523
         ]
        }
       ],
       "layout": {
        "title": "Frauds distribution across outlier_pca outlier score"
       }
      },
      "text/html": [
       "<div id=\"c0b184d1-a36c-45c5-92a9-c31ee09ade97\" style=\"height: 525px; width: 100%;\" class=\"plotly-graph-div\"></div><script type=\"text/javascript\">require([\"plotly\"], function(Plotly) { window.PLOTLYENV=window.PLOTLYENV || {};window.PLOTLYENV.BASE_URL=\"https://plot.ly\";Plotly.newPlot(\"c0b184d1-a36c-45c5-92a9-c31ee09ade97\", [{\"type\": \"histogram\", \"x\": [0.5858150693495842, 0.05450031015460278, 0.0, 0.038352580624965826, 1.0, 1.0, 1.0, 1.0, 1.0, 0.3308081850123419, 0.2006431124765445, 0.1157001776352397, 0.9584190051900489, 0.988594162883251, 0.9206577009905076, 1.0, 1.0, 0.30590219636378957, 0.2550099783808826, 0.977765869625268, 0.9781228827699877, 0.8416799297697386, 1.0, 1.0, 0.9639180442704185, 1.0, 1.0, 0.50852544018915, 1.0, 0.9181875933775389, 0.9599232170798376, 0.046437255201211995, 0.37310325971730884, 0.9710948277323453, 0.5630003817488349, 1.0, 0.9670836873280104, 0.9662472794905863, 0.0, 0.3792170169414882, 0.2440985872853231, 0.0, 0.9657978662044665, 0.9447332345782135, 0.9999999999976367, 1.0, 0.9725272899954246, 1.0, 0.8154793927871076, 0.7890557994814119, 0.7619649544618191, 0.7346144913986369, 0.7074159757475481, 0.6807728488496015, 0.6550704484209193, 0.6306682832402677, 0.8879712652097743, 0.5143231439456285, 0.0, 0.0, 0.24191358619046194, 0.0, 0.0, 0.005670544829925891, 0.03227568896329247, 0.06058146641816417, 0.0905390906283052, 0.12208568029023298, 0.1551425822129954, 0.1896138402830009, 0.2253848845601212, 0.26232152345033805, 0.30026932844084525, 0.0, 0.3152118061343649, 0.0, 0.3281755068772714, 0.36742065859207723, 0.4071575103021269, 0.44716014673979876, 0.48718746052358236, 1.0, 1.0, 1.0, 0.9999495721704951, 0.0, 0.0, 0.0, 0.0, 0.0, 0.024481459637353115, 0.0, 0.06036322827716045, 0.3448339551870416, 0.0, 0.0, 0.0, 0.0, 0.0, 0.0, 0.0, 0.2440953882980608, 0.0, 0.05245646117982581, 0.8617015927416869, 1.0, 1.0, 0.37554826088515075, 0.6387028269068549, 0.0, 0.0, 0.0, 0.0, 0.0, 0.7009956513475399, 0.0, 0.0, 0.0, 0.5831747030558219, 0.73087899104363, 0.6324971522152094, 0.7426658793224334, 0.2318548832106193, 0.6398597424599367, 0.2807949189756811, 0.6517327935335732, 0.10597114411109632, 0.0, 0.0, 0.7052510991149185, 0.5311606266014232, 0.0, 0.7192900180260106, 0.0, 0.0, 0.0, 0.2770151081477543, 0.0, 0.41255225111930927, 0.4460626025668833, 0.0, 1.0, 1.0, 0.0, 0.0, 0.0, 0.0, 0.0, 0.0, 0.0, 0.0, 0.0, 0.0, 0.0, 0.0, 0.20344506303537702, 0.0, 0.0, 0.0, 0.0, 0.0, 0.0, 0.0, 0.16742685935026658, 0.0, 0.0, 0.0, 0.0, 0.0, 0.0, 0.0, 0.0, 0.0, 0.0, 0.0, 0.0, 0.0, 0.0, 0.0, 0.3216965422484383, 0.0, 0.0, 0.20695983456504985, 0.0, 0.0, 0.13140189353411336, 0.9178358447547939, 0.0, 0.11786560481275461, 0.0, 0.0, 1.0, 1.0, 0.20825412987966394, 0.21324651796250496, 0.0, 0.9996321823006481, 0.0, 0.0, 0.0, 0.0, 0.9513362635257775, 0.0, 0.0, 0.13331078283340903, 0.0, 0.7256869572074017, 0.0, 0.8985762233489111, 0.18322442727346847, 0.5242331177562028, 0.0, 0.5179021524490274, 0.42451158377951154, 0.16090889969338987, 0.07820546273029615, 0.6730162851483167, 0.0, 0.4439442461294545, 0.0, 0.0, 0.0, 0.0, 0.0, 0.0, 0.419748436648706, 0.419748436648706, 0.419748436648706, 0.419748436648706, 0.419748436648706, 0.419748436648706, 0.0, 0.8528666056232372, 0.1314917835319933, 0.0, 0.0, 0.0, 0.0, 0.06337881140119321, 0.12485989602767558, 0.0, 0.0, 0.0, 0.3564671481838633, 0.0, 0.49559923793610977, 0.05278430055985976, 0.17520886504349092, 0.16415221868503138, 0.047238861496215596, 0.0, 0.872965284656919, 0.920071188322416, 0.8950011450639563, 0.9791201618777231, 0.0, 0.8860637846132691, 0.8515922103096483, 0.9879156883336487, 0.2734208055714792, 0.2123776133151045, 0.27913567483556234, 0.0, 0.0, 0.0, 0.9012948572457483, 0.9012948572457483, 0.9082683424007607, 0.9082683424007607, 0.0, 0.0, 0.0, 0.4214468766241496, 0.4214468766241496, 0.4332211754019312, 0.4332211754019312, 0.23707120647325303, 0.0, 0.0, 0.0, 0.1285489426086157, 0.41212511954677156, 0.0, 0.0, 0.0, 0.7157018326430685, 0.0, 0.0, 0.99999957559899, 0.9882725604709984, 0.12332647629201848, 0.7711205898032334, 0.0, 0.7088079986459161, 0.5581733737279471, 0.46797895675713685, 0.0, 0.4082873759571138, 0.4082873759571138, 0.5215406424371, 0.5215406424371, 0.0, 0.9961336892638927, 0.9961336892638927, 0.9999932966337115, 0.9999932966337115, 0.0, 0.0, 0.12028503551119839, 0.12028503551119839, 0.9990602650395487, 0.0, 0.0, 0.0, 0.20784882828385828, 0.28993068103407105, 0.0, 0.0, 0.0, 0.0, 0.7275387985663424, 0.0, 0.0, 0.9923098604461105, 0.5608151374328412, 0.0, 0.6272567336497985, 0.0, 0.6185213483917422, 0.48680832941611424, 0.0, 0.9907849144286366, 0.9991116076010665, 0.8427292464804614, 0.9999999910419374, 0.0, 0.0, 0.11717407429292266, 0.9823429304087089, 0.762901174622693, 0.9999997776666444, 0.0, 0.0, 0.9901794979070823, 0.29094955454416993, 0.9945656832938818, 0.9998361835283676, 0.8681639315182982, 0.8971517421409988, 0.41034539587476615, 0.17460552644382948, 0.9807348682815665, 0.0, 0.9887283270584526, 0.0, 0.0, 0.0882439898046849, 0.0, 0.10130976083790112, 0.0993121971730684, 0.0, 0.631178068551805, 0.39982664860001493, 0.6493529583280688, 0.0, 0.0, 0.9999999999999994, 0.9734973493521523], \"histnorm\": \"probability\"}], {\"title\": \"Frauds distribution across outlier_pca outlier score\"}, {\"showLink\": true, \"linkText\": \"Export to plot.ly\"})});</script>"
      ],
      "text/vnd.plotly.v1+html": [
       "<div id=\"c0b184d1-a36c-45c5-92a9-c31ee09ade97\" style=\"height: 525px; width: 100%;\" class=\"plotly-graph-div\"></div><script type=\"text/javascript\">require([\"plotly\"], function(Plotly) { window.PLOTLYENV=window.PLOTLYENV || {};window.PLOTLYENV.BASE_URL=\"https://plot.ly\";Plotly.newPlot(\"c0b184d1-a36c-45c5-92a9-c31ee09ade97\", [{\"type\": \"histogram\", \"x\": [0.5858150693495842, 0.05450031015460278, 0.0, 0.038352580624965826, 1.0, 1.0, 1.0, 1.0, 1.0, 0.3308081850123419, 0.2006431124765445, 0.1157001776352397, 0.9584190051900489, 0.988594162883251, 0.9206577009905076, 1.0, 1.0, 0.30590219636378957, 0.2550099783808826, 0.977765869625268, 0.9781228827699877, 0.8416799297697386, 1.0, 1.0, 0.9639180442704185, 1.0, 1.0, 0.50852544018915, 1.0, 0.9181875933775389, 0.9599232170798376, 0.046437255201211995, 0.37310325971730884, 0.9710948277323453, 0.5630003817488349, 1.0, 0.9670836873280104, 0.9662472794905863, 0.0, 0.3792170169414882, 0.2440985872853231, 0.0, 0.9657978662044665, 0.9447332345782135, 0.9999999999976367, 1.0, 0.9725272899954246, 1.0, 0.8154793927871076, 0.7890557994814119, 0.7619649544618191, 0.7346144913986369, 0.7074159757475481, 0.6807728488496015, 0.6550704484209193, 0.6306682832402677, 0.8879712652097743, 0.5143231439456285, 0.0, 0.0, 0.24191358619046194, 0.0, 0.0, 0.005670544829925891, 0.03227568896329247, 0.06058146641816417, 0.0905390906283052, 0.12208568029023298, 0.1551425822129954, 0.1896138402830009, 0.2253848845601212, 0.26232152345033805, 0.30026932844084525, 0.0, 0.3152118061343649, 0.0, 0.3281755068772714, 0.36742065859207723, 0.4071575103021269, 0.44716014673979876, 0.48718746052358236, 1.0, 1.0, 1.0, 0.9999495721704951, 0.0, 0.0, 0.0, 0.0, 0.0, 0.024481459637353115, 0.0, 0.06036322827716045, 0.3448339551870416, 0.0, 0.0, 0.0, 0.0, 0.0, 0.0, 0.0, 0.2440953882980608, 0.0, 0.05245646117982581, 0.8617015927416869, 1.0, 1.0, 0.37554826088515075, 0.6387028269068549, 0.0, 0.0, 0.0, 0.0, 0.0, 0.7009956513475399, 0.0, 0.0, 0.0, 0.5831747030558219, 0.73087899104363, 0.6324971522152094, 0.7426658793224334, 0.2318548832106193, 0.6398597424599367, 0.2807949189756811, 0.6517327935335732, 0.10597114411109632, 0.0, 0.0, 0.7052510991149185, 0.5311606266014232, 0.0, 0.7192900180260106, 0.0, 0.0, 0.0, 0.2770151081477543, 0.0, 0.41255225111930927, 0.4460626025668833, 0.0, 1.0, 1.0, 0.0, 0.0, 0.0, 0.0, 0.0, 0.0, 0.0, 0.0, 0.0, 0.0, 0.0, 0.0, 0.20344506303537702, 0.0, 0.0, 0.0, 0.0, 0.0, 0.0, 0.0, 0.16742685935026658, 0.0, 0.0, 0.0, 0.0, 0.0, 0.0, 0.0, 0.0, 0.0, 0.0, 0.0, 0.0, 0.0, 0.0, 0.0, 0.3216965422484383, 0.0, 0.0, 0.20695983456504985, 0.0, 0.0, 0.13140189353411336, 0.9178358447547939, 0.0, 0.11786560481275461, 0.0, 0.0, 1.0, 1.0, 0.20825412987966394, 0.21324651796250496, 0.0, 0.9996321823006481, 0.0, 0.0, 0.0, 0.0, 0.9513362635257775, 0.0, 0.0, 0.13331078283340903, 0.0, 0.7256869572074017, 0.0, 0.8985762233489111, 0.18322442727346847, 0.5242331177562028, 0.0, 0.5179021524490274, 0.42451158377951154, 0.16090889969338987, 0.07820546273029615, 0.6730162851483167, 0.0, 0.4439442461294545, 0.0, 0.0, 0.0, 0.0, 0.0, 0.0, 0.419748436648706, 0.419748436648706, 0.419748436648706, 0.419748436648706, 0.419748436648706, 0.419748436648706, 0.0, 0.8528666056232372, 0.1314917835319933, 0.0, 0.0, 0.0, 0.0, 0.06337881140119321, 0.12485989602767558, 0.0, 0.0, 0.0, 0.3564671481838633, 0.0, 0.49559923793610977, 0.05278430055985976, 0.17520886504349092, 0.16415221868503138, 0.047238861496215596, 0.0, 0.872965284656919, 0.920071188322416, 0.8950011450639563, 0.9791201618777231, 0.0, 0.8860637846132691, 0.8515922103096483, 0.9879156883336487, 0.2734208055714792, 0.2123776133151045, 0.27913567483556234, 0.0, 0.0, 0.0, 0.9012948572457483, 0.9012948572457483, 0.9082683424007607, 0.9082683424007607, 0.0, 0.0, 0.0, 0.4214468766241496, 0.4214468766241496, 0.4332211754019312, 0.4332211754019312, 0.23707120647325303, 0.0, 0.0, 0.0, 0.1285489426086157, 0.41212511954677156, 0.0, 0.0, 0.0, 0.7157018326430685, 0.0, 0.0, 0.99999957559899, 0.9882725604709984, 0.12332647629201848, 0.7711205898032334, 0.0, 0.7088079986459161, 0.5581733737279471, 0.46797895675713685, 0.0, 0.4082873759571138, 0.4082873759571138, 0.5215406424371, 0.5215406424371, 0.0, 0.9961336892638927, 0.9961336892638927, 0.9999932966337115, 0.9999932966337115, 0.0, 0.0, 0.12028503551119839, 0.12028503551119839, 0.9990602650395487, 0.0, 0.0, 0.0, 0.20784882828385828, 0.28993068103407105, 0.0, 0.0, 0.0, 0.0, 0.7275387985663424, 0.0, 0.0, 0.9923098604461105, 0.5608151374328412, 0.0, 0.6272567336497985, 0.0, 0.6185213483917422, 0.48680832941611424, 0.0, 0.9907849144286366, 0.9991116076010665, 0.8427292464804614, 0.9999999910419374, 0.0, 0.0, 0.11717407429292266, 0.9823429304087089, 0.762901174622693, 0.9999997776666444, 0.0, 0.0, 0.9901794979070823, 0.29094955454416993, 0.9945656832938818, 0.9998361835283676, 0.8681639315182982, 0.8971517421409988, 0.41034539587476615, 0.17460552644382948, 0.9807348682815665, 0.0, 0.9887283270584526, 0.0, 0.0, 0.0882439898046849, 0.0, 0.10130976083790112, 0.0993121971730684, 0.0, 0.631178068551805, 0.39982664860001493, 0.6493529583280688, 0.0, 0.0, 0.9999999999999994, 0.9734973493521523], \"histnorm\": \"probability\"}], {\"title\": \"Frauds distribution across outlier_pca outlier score\"}, {\"showLink\": true, \"linkText\": \"Export to plot.ly\"})});</script>"
      ]
     },
     "metadata": {},
     "output_type": "display_data"
    },
    {
     "data": {
      "application/vnd.plotly.v1+json": {
       "data": [
        {
         "histnorm": "probability",
         "type": "histogram",
         "x": [
          0.3305096563745097,
          0.10183054229022973,
          0.4521927786756826,
          0.9999735000691637,
          0.8100948840160505,
          0.9872852637088336,
          0.9885947529881071,
          0.9254692073299098,
          0.9296310934264299,
          0.9319906200915271,
          0.9419322552311262,
          0.7485647364046386,
          0.8879014071963192,
          0.8868207553034015,
          0.9581209997224027,
          0.9988813127418309,
          0.9986963704958687,
          0.9913865647098894,
          0.990201422503558,
          0.9795969345696393,
          0.9794594925200719,
          0.999946272416681,
          0.9977402149025715,
          0.9977730927862201,
          0.9848688433170333,
          1,
          0.927835057303209,
          1,
          1,
          0.9549880431851595,
          0.999916654417002,
          0.9999197253984371,
          0.9282143225513395,
          1,
          1,
          1,
          1,
          1,
          0.9652475818184936,
          0,
          0,
          0,
          1,
          1,
          1,
          1,
          1,
          1,
          1,
          1,
          1,
          1,
          1,
          1,
          1,
          1,
          0.05897567276818794,
          1,
          1,
          1,
          0.005547521263491604,
          1,
          1,
          1,
          1,
          1,
          1,
          1,
          1,
          1,
          1,
          1,
          1,
          0.5415775927328172,
          1,
          0.6873758097533297,
          1,
          1,
          1,
          1,
          1,
          0.7853959803932946,
          0.7811976472414827,
          0.9316864992823017,
          0.684274266608759,
          0.3246478348872081,
          0.544907841448032,
          0.6804551294350459,
          0.297636407910892,
          0,
          0.5727266434170476,
          0.9933859731076309,
          0.9999998926731045,
          0.12671579155892979,
          0.9916842444363211,
          0.9999999223780519,
          0.9999999118335584,
          0.9999998308159344,
          0.9999997766239946,
          0.9999998010225957,
          0.9999993338885561,
          0.999999296523571,
          0.9829996882451802,
          0.20095762748363824,
          0.2293408416460317,
          0.7789609409856612,
          0.958572358657953,
          0.9792785542750968,
          1,
          0.9989081914919685,
          0.9985503062839407,
          1,
          1,
          1,
          1,
          1,
          1,
          1,
          1,
          1,
          1,
          1,
          1,
          1,
          1,
          1,
          1,
          1,
          1,
          1,
          1,
          1,
          1,
          0.5729687724076779,
          1,
          0.9987570666884339,
          0.6668476675700523,
          0.9996804765103005,
          1,
          1,
          0.9979487647774551,
          0.9439803123051514,
          0.9384336165398157,
          0.999999998879773,
          0.999999999171751,
          0.5692451821522944,
          0.9944136176742346,
          0.5888936112142933,
          0.997756611024018,
          0,
          0.5727030322773201,
          0,
          0.5306908448747694,
          0.5523443826852942,
          0.5077733308337905,
          0,
          0,
          0,
          0.5410931221413626,
          0.5196607022891978,
          0,
          0,
          0.5636394078443514,
          0.2432160327617454,
          0.9998097527498844,
          0.9998651985813922,
          0.9999101833355075,
          0.9999439592325422,
          0.9999673950962952,
          0.010097328300038563,
          0.007059511952546296,
          0.6154962665884478,
          0,
          0.5498320531322788,
          0.5667970763909832,
          0.5694544571337833,
          0.6019167628288496,
          0,
          0.9999999951064678,
          0.9999999857275168,
          0.9999999834572683,
          0.9999999763194183,
          0.4850582617987071,
          0.5833525186399733,
          0.9999999711375488,
          0.9999999734737024,
          0.937850253902332,
          0.8903228663853,
          0.8831275702045678,
          0.8902814380519525,
          0.999999997764194,
          0.9897584073327407,
          0.8126738771810712,
          0.5785322256884797,
          0,
          0.5464631728085737,
          0.9169708445145203,
          0.9932031186177669,
          0.8078074478539518,
          0.9045618114145257,
          0.5484936765324988,
          0.7313071955132395,
          0.9935118412799614,
          0.9921765469167733,
          0.6824934762667212,
          0.38201105818923287,
          0.692615292028792,
          0.6649403735978495,
          0.21707935789364294,
          0.9999463180292254,
          0.9992796212707831,
          0,
          0.9999207117704555,
          0.5820250416391749,
          0.0021464580012113014,
          0,
          0.9996165206348343,
          0,
          0.9167806394751778,
          0,
          0.6693511432690593,
          0.5498647236097937,
          0.6149732598370187,
          0,
          0,
          1,
          1,
          1,
          1,
          1,
          1,
          0,
          0.2363507033863014,
          0.8915978204734364,
          0.5764920970867933,
          0.6060948410765394,
          0.7570604267659357,
          0,
          0.9023390337508166,
          0.8904403028386303,
          0,
          0.5589828553174245,
          0.5511845783217889,
          0.672107526391623,
          0,
          0.04131332905526013,
          0.9999245439859272,
          0.9997851935317614,
          0.9997327468527168,
          0.9997505565493794,
          0.9997867125643005,
          0.22566813523199036,
          0.22328382109357836,
          0.23151142554284468,
          0.24586946310220012,
          0,
          0.2282077416460042,
          0.46812349027860584,
          0.23734425388495586,
          0.9998952240955293,
          0.6237732148269431,
          0,
          0.5684637700715395,
          0.2923162292234817,
          0.9986814486488536,
          0.9999999978386948,
          0.9999999978386948,
          0.9999999984853027,
          0.9999999984853027,
          0.9999999959666473,
          0,
          0.6071379187835028,
          0.9999999853136099,
          0.9999999853136099,
          0.9999999897203753,
          0.9999999897203753,
          0.9983914707573402,
          0.9979282633877599,
          0.997709192833725,
          0.9980273646263323,
          0.27619936520863264,
          0.07679786622360284,
          0.4264517133721605,
          0.9968159011313056,
          0.05072383630107898,
          0.9948870828724,
          0.49824951385960553,
          0.9931325858831064,
          0.6639641440305841,
          0.6695627570623005,
          0.9884216132493765,
          0.6451542365833879,
          0.7472079563740107,
          1,
          1,
          1,
          1,
          1,
          1,
          1,
          1,
          1,
          1,
          1,
          1,
          1,
          1,
          1,
          1,
          1,
          1,
          1,
          1,
          1,
          1,
          1,
          1,
          1,
          1,
          1,
          1,
          0.09240674333482732,
          0.21791206803802832,
          1,
          1,
          0.8912121018362231,
          0.9989001072395548,
          0.9990856053992554,
          1,
          1,
          1,
          1,
          0.9879205730389313,
          1,
          0.999999999999997,
          1,
          0.610785553647156,
          1,
          0.5573976788689062,
          0.999999140933103,
          0.9999997439520948,
          0.9999993062451249,
          1,
          0.9999975022568547,
          0.999997580452345,
          0.9999988320787941,
          0.9999965617325359,
          0.9999979872159329,
          0.9999979777718448,
          0.6716139962624952,
          0.9537127924238679,
          0.9497658724845768,
          0.013442211652081556,
          0.9277405489549291,
          0.9021101681566149,
          0.20287733556926604,
          0.934359718381601,
          0.7668548757918267,
          0.9882683001063534,
          0.9873567740528555,
          0.9241178524981766,
          0.7526101816749812,
          0.776088713923696,
          0.99999942473273,
          0.4899674161975561,
          0.1579418617135103,
          0.7667279103051854,
          0.4721842532331351
         ]
        }
       ],
       "layout": {
        "title": "Frauds distribution across outlier_zscore outlier score"
       }
      },
      "text/html": [
       "<div id=\"8976de6f-0704-4733-ba2c-e93f93f9e460\" style=\"height: 525px; width: 100%;\" class=\"plotly-graph-div\"></div><script type=\"text/javascript\">require([\"plotly\"], function(Plotly) { window.PLOTLYENV=window.PLOTLYENV || {};window.PLOTLYENV.BASE_URL=\"https://plot.ly\";Plotly.newPlot(\"8976de6f-0704-4733-ba2c-e93f93f9e460\", [{\"type\": \"histogram\", \"x\": [0.3305096563745097, 0.10183054229022973, 0.4521927786756826, 0.9999735000691637, 0.8100948840160505, 0.9872852637088336, 0.9885947529881071, 0.9254692073299098, 0.9296310934264299, 0.9319906200915271, 0.9419322552311262, 0.7485647364046386, 0.8879014071963192, 0.8868207553034015, 0.9581209997224027, 0.9988813127418309, 0.9986963704958687, 0.9913865647098894, 0.990201422503558, 0.9795969345696393, 0.9794594925200719, 0.999946272416681, 0.9977402149025715, 0.9977730927862201, 0.9848688433170333, 1.0, 0.927835057303209, 1.0, 1.0, 0.9549880431851595, 0.999916654417002, 0.9999197253984371, 0.9282143225513395, 1.0, 1.0, 1.0, 1.0, 1.0, 0.9652475818184936, 0.0, 0.0, 0.0, 1.0, 1.0, 1.0, 1.0, 1.0, 1.0, 1.0, 1.0, 1.0, 1.0, 1.0, 1.0, 1.0, 1.0, 0.05897567276818794, 1.0, 1.0, 1.0, 0.005547521263491604, 1.0, 1.0, 1.0, 1.0, 1.0, 1.0, 1.0, 1.0, 1.0, 1.0, 1.0, 1.0, 0.5415775927328172, 1.0, 0.6873758097533297, 1.0, 1.0, 1.0, 1.0, 1.0, 0.7853959803932946, 0.7811976472414827, 0.9316864992823017, 0.684274266608759, 0.3246478348872081, 0.544907841448032, 0.6804551294350459, 0.297636407910892, 0.0, 0.5727266434170476, 0.9933859731076309, 0.9999998926731045, 0.12671579155892979, 0.9916842444363211, 0.9999999223780519, 0.9999999118335584, 0.9999998308159344, 0.9999997766239946, 0.9999998010225957, 0.9999993338885561, 0.999999296523571, 0.9829996882451802, 0.20095762748363824, 0.2293408416460317, 0.7789609409856612, 0.958572358657953, 0.9792785542750968, 1.0, 0.9989081914919685, 0.9985503062839407, 1.0, 1.0, 1.0, 1.0, 1.0, 1.0, 1.0, 1.0, 1.0, 1.0, 1.0, 1.0, 1.0, 1.0, 1.0, 1.0, 1.0, 1.0, 1.0, 1.0, 1.0, 1.0, 0.5729687724076779, 1.0, 0.9987570666884339, 0.6668476675700523, 0.9996804765103005, 1.0, 1.0, 0.9979487647774551, 0.9439803123051514, 0.9384336165398157, 0.999999998879773, 0.999999999171751, 0.5692451821522944, 0.9944136176742346, 0.5888936112142933, 0.997756611024018, 0.0, 0.5727030322773201, 0.0, 0.5306908448747694, 0.5523443826852942, 0.5077733308337905, 0.0, 0.0, 0.0, 0.5410931221413626, 0.5196607022891978, 0.0, 0.0, 0.5636394078443514, 0.2432160327617454, 0.9998097527498844, 0.9998651985813922, 0.9999101833355075, 0.9999439592325422, 0.9999673950962952, 0.010097328300038563, 0.007059511952546296, 0.6154962665884478, 0.0, 0.5498320531322788, 0.5667970763909832, 0.5694544571337833, 0.6019167628288496, 0.0, 0.9999999951064678, 0.9999999857275168, 0.9999999834572683, 0.9999999763194183, 0.4850582617987071, 0.5833525186399733, 0.9999999711375488, 0.9999999734737024, 0.937850253902332, 0.8903228663853, 0.8831275702045678, 0.8902814380519525, 0.999999997764194, 0.9897584073327407, 0.8126738771810712, 0.5785322256884797, 0.0, 0.5464631728085737, 0.9169708445145203, 0.9932031186177669, 0.8078074478539518, 0.9045618114145257, 0.5484936765324988, 0.7313071955132395, 0.9935118412799614, 0.9921765469167733, 0.6824934762667212, 0.38201105818923287, 0.692615292028792, 0.6649403735978495, 0.21707935789364294, 0.9999463180292254, 0.9992796212707831, 0.0, 0.9999207117704555, 0.5820250416391749, 0.0021464580012113014, 0.0, 0.9996165206348343, 0.0, 0.9167806394751778, 0.0, 0.6693511432690593, 0.5498647236097937, 0.6149732598370187, 0.0, 0.0, 1.0, 1.0, 1.0, 1.0, 1.0, 1.0, 0.0, 0.2363507033863014, 0.8915978204734364, 0.5764920970867933, 0.6060948410765394, 0.7570604267659357, 0.0, 0.9023390337508166, 0.8904403028386303, 0.0, 0.5589828553174245, 0.5511845783217889, 0.672107526391623, 0.0, 0.04131332905526013, 0.9999245439859272, 0.9997851935317614, 0.9997327468527168, 0.9997505565493794, 0.9997867125643005, 0.22566813523199036, 0.22328382109357836, 0.23151142554284468, 0.24586946310220012, 0.0, 0.2282077416460042, 0.46812349027860584, 0.23734425388495586, 0.9998952240955293, 0.6237732148269431, 0.0, 0.5684637700715395, 0.2923162292234817, 0.9986814486488536, 0.9999999978386948, 0.9999999978386948, 0.9999999984853027, 0.9999999984853027, 0.9999999959666473, 0.0, 0.6071379187835028, 0.9999999853136099, 0.9999999853136099, 0.9999999897203753, 0.9999999897203753, 0.9983914707573402, 0.9979282633877599, 0.997709192833725, 0.9980273646263323, 0.27619936520863264, 0.07679786622360284, 0.4264517133721605, 0.9968159011313056, 0.05072383630107898, 0.9948870828724, 0.49824951385960553, 0.9931325858831064, 0.6639641440305841, 0.6695627570623005, 0.9884216132493765, 0.6451542365833879, 0.7472079563740107, 1.0, 1.0, 1.0, 1.0, 1.0, 1.0, 1.0, 1.0, 1.0, 1.0, 1.0, 1.0, 1.0, 1.0, 1.0, 1.0, 1.0, 1.0, 1.0, 1.0, 1.0, 1.0, 1.0, 1.0, 1.0, 1.0, 1.0, 1.0, 0.09240674333482732, 0.21791206803802832, 1.0, 1.0, 0.8912121018362231, 0.9989001072395548, 0.9990856053992554, 1.0, 1.0, 1.0, 1.0, 0.9879205730389313, 1.0, 0.999999999999997, 1.0, 0.610785553647156, 1.0, 0.5573976788689062, 0.999999140933103, 0.9999997439520948, 0.9999993062451249, 1.0, 0.9999975022568547, 0.999997580452345, 0.9999988320787941, 0.9999965617325359, 0.9999979872159329, 0.9999979777718448, 0.6716139962624952, 0.9537127924238679, 0.9497658724845768, 0.013442211652081556, 0.9277405489549291, 0.9021101681566149, 0.20287733556926604, 0.934359718381601, 0.7668548757918267, 0.9882683001063534, 0.9873567740528555, 0.9241178524981766, 0.7526101816749812, 0.776088713923696, 0.99999942473273, 0.4899674161975561, 0.1579418617135103, 0.7667279103051854, 0.4721842532331351], \"histnorm\": \"probability\"}], {\"title\": \"Frauds distribution across outlier_zscore outlier score\"}, {\"showLink\": true, \"linkText\": \"Export to plot.ly\"})});</script>"
      ],
      "text/vnd.plotly.v1+html": [
       "<div id=\"8976de6f-0704-4733-ba2c-e93f93f9e460\" style=\"height: 525px; width: 100%;\" class=\"plotly-graph-div\"></div><script type=\"text/javascript\">require([\"plotly\"], function(Plotly) { window.PLOTLYENV=window.PLOTLYENV || {};window.PLOTLYENV.BASE_URL=\"https://plot.ly\";Plotly.newPlot(\"8976de6f-0704-4733-ba2c-e93f93f9e460\", [{\"type\": \"histogram\", \"x\": [0.3305096563745097, 0.10183054229022973, 0.4521927786756826, 0.9999735000691637, 0.8100948840160505, 0.9872852637088336, 0.9885947529881071, 0.9254692073299098, 0.9296310934264299, 0.9319906200915271, 0.9419322552311262, 0.7485647364046386, 0.8879014071963192, 0.8868207553034015, 0.9581209997224027, 0.9988813127418309, 0.9986963704958687, 0.9913865647098894, 0.990201422503558, 0.9795969345696393, 0.9794594925200719, 0.999946272416681, 0.9977402149025715, 0.9977730927862201, 0.9848688433170333, 1.0, 0.927835057303209, 1.0, 1.0, 0.9549880431851595, 0.999916654417002, 0.9999197253984371, 0.9282143225513395, 1.0, 1.0, 1.0, 1.0, 1.0, 0.9652475818184936, 0.0, 0.0, 0.0, 1.0, 1.0, 1.0, 1.0, 1.0, 1.0, 1.0, 1.0, 1.0, 1.0, 1.0, 1.0, 1.0, 1.0, 0.05897567276818794, 1.0, 1.0, 1.0, 0.005547521263491604, 1.0, 1.0, 1.0, 1.0, 1.0, 1.0, 1.0, 1.0, 1.0, 1.0, 1.0, 1.0, 0.5415775927328172, 1.0, 0.6873758097533297, 1.0, 1.0, 1.0, 1.0, 1.0, 0.7853959803932946, 0.7811976472414827, 0.9316864992823017, 0.684274266608759, 0.3246478348872081, 0.544907841448032, 0.6804551294350459, 0.297636407910892, 0.0, 0.5727266434170476, 0.9933859731076309, 0.9999998926731045, 0.12671579155892979, 0.9916842444363211, 0.9999999223780519, 0.9999999118335584, 0.9999998308159344, 0.9999997766239946, 0.9999998010225957, 0.9999993338885561, 0.999999296523571, 0.9829996882451802, 0.20095762748363824, 0.2293408416460317, 0.7789609409856612, 0.958572358657953, 0.9792785542750968, 1.0, 0.9989081914919685, 0.9985503062839407, 1.0, 1.0, 1.0, 1.0, 1.0, 1.0, 1.0, 1.0, 1.0, 1.0, 1.0, 1.0, 1.0, 1.0, 1.0, 1.0, 1.0, 1.0, 1.0, 1.0, 1.0, 1.0, 0.5729687724076779, 1.0, 0.9987570666884339, 0.6668476675700523, 0.9996804765103005, 1.0, 1.0, 0.9979487647774551, 0.9439803123051514, 0.9384336165398157, 0.999999998879773, 0.999999999171751, 0.5692451821522944, 0.9944136176742346, 0.5888936112142933, 0.997756611024018, 0.0, 0.5727030322773201, 0.0, 0.5306908448747694, 0.5523443826852942, 0.5077733308337905, 0.0, 0.0, 0.0, 0.5410931221413626, 0.5196607022891978, 0.0, 0.0, 0.5636394078443514, 0.2432160327617454, 0.9998097527498844, 0.9998651985813922, 0.9999101833355075, 0.9999439592325422, 0.9999673950962952, 0.010097328300038563, 0.007059511952546296, 0.6154962665884478, 0.0, 0.5498320531322788, 0.5667970763909832, 0.5694544571337833, 0.6019167628288496, 0.0, 0.9999999951064678, 0.9999999857275168, 0.9999999834572683, 0.9999999763194183, 0.4850582617987071, 0.5833525186399733, 0.9999999711375488, 0.9999999734737024, 0.937850253902332, 0.8903228663853, 0.8831275702045678, 0.8902814380519525, 0.999999997764194, 0.9897584073327407, 0.8126738771810712, 0.5785322256884797, 0.0, 0.5464631728085737, 0.9169708445145203, 0.9932031186177669, 0.8078074478539518, 0.9045618114145257, 0.5484936765324988, 0.7313071955132395, 0.9935118412799614, 0.9921765469167733, 0.6824934762667212, 0.38201105818923287, 0.692615292028792, 0.6649403735978495, 0.21707935789364294, 0.9999463180292254, 0.9992796212707831, 0.0, 0.9999207117704555, 0.5820250416391749, 0.0021464580012113014, 0.0, 0.9996165206348343, 0.0, 0.9167806394751778, 0.0, 0.6693511432690593, 0.5498647236097937, 0.6149732598370187, 0.0, 0.0, 1.0, 1.0, 1.0, 1.0, 1.0, 1.0, 0.0, 0.2363507033863014, 0.8915978204734364, 0.5764920970867933, 0.6060948410765394, 0.7570604267659357, 0.0, 0.9023390337508166, 0.8904403028386303, 0.0, 0.5589828553174245, 0.5511845783217889, 0.672107526391623, 0.0, 0.04131332905526013, 0.9999245439859272, 0.9997851935317614, 0.9997327468527168, 0.9997505565493794, 0.9997867125643005, 0.22566813523199036, 0.22328382109357836, 0.23151142554284468, 0.24586946310220012, 0.0, 0.2282077416460042, 0.46812349027860584, 0.23734425388495586, 0.9998952240955293, 0.6237732148269431, 0.0, 0.5684637700715395, 0.2923162292234817, 0.9986814486488536, 0.9999999978386948, 0.9999999978386948, 0.9999999984853027, 0.9999999984853027, 0.9999999959666473, 0.0, 0.6071379187835028, 0.9999999853136099, 0.9999999853136099, 0.9999999897203753, 0.9999999897203753, 0.9983914707573402, 0.9979282633877599, 0.997709192833725, 0.9980273646263323, 0.27619936520863264, 0.07679786622360284, 0.4264517133721605, 0.9968159011313056, 0.05072383630107898, 0.9948870828724, 0.49824951385960553, 0.9931325858831064, 0.6639641440305841, 0.6695627570623005, 0.9884216132493765, 0.6451542365833879, 0.7472079563740107, 1.0, 1.0, 1.0, 1.0, 1.0, 1.0, 1.0, 1.0, 1.0, 1.0, 1.0, 1.0, 1.0, 1.0, 1.0, 1.0, 1.0, 1.0, 1.0, 1.0, 1.0, 1.0, 1.0, 1.0, 1.0, 1.0, 1.0, 1.0, 0.09240674333482732, 0.21791206803802832, 1.0, 1.0, 0.8912121018362231, 0.9989001072395548, 0.9990856053992554, 1.0, 1.0, 1.0, 1.0, 0.9879205730389313, 1.0, 0.999999999999997, 1.0, 0.610785553647156, 1.0, 0.5573976788689062, 0.999999140933103, 0.9999997439520948, 0.9999993062451249, 1.0, 0.9999975022568547, 0.999997580452345, 0.9999988320787941, 0.9999965617325359, 0.9999979872159329, 0.9999979777718448, 0.6716139962624952, 0.9537127924238679, 0.9497658724845768, 0.013442211652081556, 0.9277405489549291, 0.9021101681566149, 0.20287733556926604, 0.934359718381601, 0.7668548757918267, 0.9882683001063534, 0.9873567740528555, 0.9241178524981766, 0.7526101816749812, 0.776088713923696, 0.99999942473273, 0.4899674161975561, 0.1579418617135103, 0.7667279103051854, 0.4721842532331351], \"histnorm\": \"probability\"}], {\"title\": \"Frauds distribution across outlier_zscore outlier score\"}, {\"showLink\": true, \"linkText\": \"Export to plot.ly\"})});</script>"
      ]
     },
     "metadata": {},
     "output_type": "display_data"
    }
   ],
   "source": [
    "ensemble_df_train_true = ensemble_df_train[df_train_unbalanced[LABEL].as_data_frame()[LABEL] == True]\n",
    "for col in OUTLIER_COLUMNS:\n",
    "    data = [go.Histogram(x=ensemble_df_train_true[col], histnorm='probability')]\n",
    "    layout = go.Layout(title='Frauds distribution across ' + col +' outlier score')\n",
    "    fig = dict(data=data, layout=layout)\n",
    "    plotly.offline.iplot(fig)"
   ]
  },
  {
   "cell_type": "code",
   "execution_count": 52,
   "metadata": {
    "collapsed": true
   },
   "outputs": [],
   "source": [
    "ensemble_train_res = np.sum(np.array(ensemble_df_train), axis=1) / len(OUTLIER_COLUMNS)"
   ]
  },
  {
   "cell_type": "code",
   "execution_count": 53,
   "metadata": {},
   "outputs": [
    {
     "data": {
      "application/vnd.plotly.v1+json": {
       "data": [
        {
         "histnorm": "probability",
         "type": "histogram",
         "x": [
          0.3305096563745097,
          0.10183054229022973,
          0.4521927786756826,
          0.9999735000691637,
          0.8100948840160505,
          0.9872852637088336,
          0.9885947529881071,
          0.9254692073299098,
          0.9296310934264299,
          0.9319906200915271,
          0.9419322552311262,
          0.7485647364046386,
          0.8879014071963192,
          0.8868207553034015,
          0.9581209997224027,
          0.9988813127418309,
          0.9986963704958687,
          0.9913865647098894,
          0.990201422503558,
          0.9795969345696393,
          0.9794594925200719,
          0.999946272416681,
          0.9977402149025715,
          0.9977730927862201,
          0.9848688433170333,
          1,
          0.927835057303209,
          1,
          1,
          0.9549880431851595,
          0.999916654417002,
          0.9999197253984371,
          0.9282143225513395,
          1,
          1,
          1,
          1,
          1,
          0.9652475818184936,
          0,
          0,
          0,
          1,
          1,
          1,
          1,
          1,
          1,
          1,
          1,
          1,
          1,
          1,
          1,
          1,
          1,
          0.05897567276818794,
          1,
          1,
          1,
          0.005547521263491604,
          1,
          1,
          1,
          1,
          1,
          1,
          1,
          1,
          1,
          1,
          1,
          1,
          0.5415775927328172,
          1,
          0.6873758097533297,
          1,
          1,
          1,
          1,
          1,
          0.7853959803932946,
          0.7811976472414827,
          0.9316864992823017,
          0.684274266608759,
          0.3246478348872081,
          0.544907841448032,
          0.6804551294350459,
          0.297636407910892,
          0,
          0.5727266434170476,
          0.9933859731076309,
          0.9999998926731045,
          0.12671579155892979,
          0.9916842444363211,
          0.9999999223780519,
          0.9999999118335584,
          0.9999998308159344,
          0.9999997766239946,
          0.9999998010225957,
          0.9999993338885561,
          0.999999296523571,
          0.9829996882451802,
          0.20095762748363824,
          0.2293408416460317,
          0.7789609409856612,
          0.958572358657953,
          0.9792785542750968,
          1,
          0.9989081914919685,
          0.9985503062839407,
          1,
          1,
          1,
          1,
          1,
          1,
          1,
          1,
          1,
          1,
          1,
          1,
          1,
          1,
          1,
          1,
          1,
          1,
          1,
          1,
          1,
          1,
          0.5729687724076779,
          1,
          0.9987570666884339,
          0.6668476675700523,
          0.9996804765103005,
          1,
          1,
          0.9979487647774551,
          0.9439803123051514,
          0.9384336165398157,
          0.999999998879773,
          0.999999999171751,
          0.5692451821522944,
          0.9944136176742346,
          0.5888936112142933,
          0.997756611024018,
          0,
          0.5727030322773201,
          0,
          0.5306908448747694,
          0.5523443826852942,
          0.5077733308337905,
          0,
          0,
          0,
          0.5410931221413626,
          0.5196607022891978,
          0,
          0,
          0.5636394078443514,
          0.2432160327617454,
          0.9998097527498844,
          0.9998651985813922,
          0.9999101833355075,
          0.9999439592325422,
          0.9999673950962952,
          0.010097328300038563,
          0.007059511952546296,
          0.6154962665884478,
          0,
          0.5498320531322788,
          0.5667970763909832,
          0.5694544571337833,
          0.6019167628288496,
          0,
          0.9999999951064678,
          0.9999999857275168,
          0.9999999834572683,
          0.9999999763194183,
          0.4850582617987071,
          0.5833525186399733,
          0.9999999711375488,
          0.9999999734737024,
          0.937850253902332,
          0.8903228663853,
          0.8831275702045678,
          0.8902814380519525,
          0.999999997764194,
          0.9897584073327407,
          0.8126738771810712,
          0.5785322256884797,
          0,
          0.5464631728085737,
          0.9169708445145203,
          0.9932031186177669,
          0.8078074478539518,
          0.9045618114145257,
          0.5484936765324988,
          0.7313071955132395,
          0.9935118412799614,
          0.9921765469167733,
          0.6824934762667212,
          0.38201105818923287,
          0.692615292028792,
          0.6649403735978495,
          0.21707935789364294,
          0.9999463180292254,
          0.9992796212707831,
          0,
          0.9999207117704555,
          0.5820250416391749,
          0.0021464580012113014,
          0,
          0.9996165206348343,
          0,
          0.9167806394751778,
          0,
          0.6693511432690593,
          0.5498647236097937,
          0.6149732598370187,
          0,
          0,
          1,
          1,
          1,
          1,
          1,
          1,
          0,
          0.2363507033863014,
          0.8915978204734364,
          0.5764920970867933,
          0.6060948410765394,
          0.7570604267659357,
          0,
          0.9023390337508166,
          0.8904403028386303,
          0,
          0.5589828553174245,
          0.5511845783217889,
          0.672107526391623,
          0,
          0.04131332905526013,
          0.9999245439859272,
          0.9997851935317614,
          0.9997327468527168,
          0.9997505565493794,
          0.9997867125643005,
          0.22566813523199036,
          0.22328382109357836,
          0.23151142554284468,
          0.24586946310220012,
          0,
          0.2282077416460042,
          0.46812349027860584,
          0.23734425388495586,
          0.9998952240955293,
          0.6237732148269431,
          0,
          0.5684637700715395,
          0.2923162292234817,
          0.9986814486488536,
          0.9999999978386948,
          0.9999999978386948,
          0.9999999984853027,
          0.9999999984853027,
          0.9999999959666473,
          0,
          0.6071379187835028,
          0.9999999853136099,
          0.9999999853136099,
          0.9999999897203753,
          0.9999999897203753,
          0.9983914707573402,
          0.9979282633877599,
          0.997709192833725,
          0.9980273646263323,
          0.27619936520863264,
          0.07679786622360284,
          0.4264517133721605,
          0.9968159011313056,
          0.05072383630107898,
          0.9948870828724,
          0.49824951385960553,
          0.9931325858831064,
          0.6639641440305841,
          0.6695627570623005,
          0.9884216132493765,
          0.6451542365833879,
          0.7472079563740107,
          1,
          1,
          1,
          1,
          1,
          1,
          1,
          1,
          1,
          1,
          1,
          1,
          1,
          1,
          1,
          1,
          1,
          1,
          1,
          1,
          1,
          1,
          1,
          1,
          1,
          1,
          1,
          1,
          0.09240674333482732,
          0.21791206803802832,
          1,
          1,
          0.8912121018362231,
          0.9989001072395548,
          0.9990856053992554,
          1,
          1,
          1,
          1,
          0.9879205730389313,
          1,
          0.999999999999997,
          1,
          0.610785553647156,
          1,
          0.5573976788689062,
          0.999999140933103,
          0.9999997439520948,
          0.9999993062451249,
          1,
          0.9999975022568547,
          0.999997580452345,
          0.9999988320787941,
          0.9999965617325359,
          0.9999979872159329,
          0.9999979777718448,
          0.6716139962624952,
          0.9537127924238679,
          0.9497658724845768,
          0.013442211652081556,
          0.9277405489549291,
          0.9021101681566149,
          0.20287733556926604,
          0.934359718381601,
          0.7668548757918267,
          0.9882683001063534,
          0.9873567740528555,
          0.9241178524981766,
          0.7526101816749812,
          0.776088713923696,
          0.99999942473273,
          0.4899674161975561,
          0.1579418617135103,
          0.7667279103051854,
          0.4721842532331351
         ]
        }
       ],
       "layout": {
        "title": "Frauds distribution across ensemble outlier score"
       }
      },
      "text/html": [
       "<div id=\"5e019a81-a1ab-4ccd-a48e-37148109701d\" style=\"height: 525px; width: 100%;\" class=\"plotly-graph-div\"></div><script type=\"text/javascript\">require([\"plotly\"], function(Plotly) { window.PLOTLYENV=window.PLOTLYENV || {};window.PLOTLYENV.BASE_URL=\"https://plot.ly\";Plotly.newPlot(\"5e019a81-a1ab-4ccd-a48e-37148109701d\", [{\"type\": \"histogram\", \"x\": [0.3305096563745097, 0.10183054229022973, 0.4521927786756826, 0.9999735000691637, 0.8100948840160505, 0.9872852637088336, 0.9885947529881071, 0.9254692073299098, 0.9296310934264299, 0.9319906200915271, 0.9419322552311262, 0.7485647364046386, 0.8879014071963192, 0.8868207553034015, 0.9581209997224027, 0.9988813127418309, 0.9986963704958687, 0.9913865647098894, 0.990201422503558, 0.9795969345696393, 0.9794594925200719, 0.999946272416681, 0.9977402149025715, 0.9977730927862201, 0.9848688433170333, 1.0, 0.927835057303209, 1.0, 1.0, 0.9549880431851595, 0.999916654417002, 0.9999197253984371, 0.9282143225513395, 1.0, 1.0, 1.0, 1.0, 1.0, 0.9652475818184936, 0.0, 0.0, 0.0, 1.0, 1.0, 1.0, 1.0, 1.0, 1.0, 1.0, 1.0, 1.0, 1.0, 1.0, 1.0, 1.0, 1.0, 0.05897567276818794, 1.0, 1.0, 1.0, 0.005547521263491604, 1.0, 1.0, 1.0, 1.0, 1.0, 1.0, 1.0, 1.0, 1.0, 1.0, 1.0, 1.0, 0.5415775927328172, 1.0, 0.6873758097533297, 1.0, 1.0, 1.0, 1.0, 1.0, 0.7853959803932946, 0.7811976472414827, 0.9316864992823017, 0.684274266608759, 0.3246478348872081, 0.544907841448032, 0.6804551294350459, 0.297636407910892, 0.0, 0.5727266434170476, 0.9933859731076309, 0.9999998926731045, 0.12671579155892979, 0.9916842444363211, 0.9999999223780519, 0.9999999118335584, 0.9999998308159344, 0.9999997766239946, 0.9999998010225957, 0.9999993338885561, 0.999999296523571, 0.9829996882451802, 0.20095762748363824, 0.2293408416460317, 0.7789609409856612, 0.958572358657953, 0.9792785542750968, 1.0, 0.9989081914919685, 0.9985503062839407, 1.0, 1.0, 1.0, 1.0, 1.0, 1.0, 1.0, 1.0, 1.0, 1.0, 1.0, 1.0, 1.0, 1.0, 1.0, 1.0, 1.0, 1.0, 1.0, 1.0, 1.0, 1.0, 0.5729687724076779, 1.0, 0.9987570666884339, 0.6668476675700523, 0.9996804765103005, 1.0, 1.0, 0.9979487647774551, 0.9439803123051514, 0.9384336165398157, 0.999999998879773, 0.999999999171751, 0.5692451821522944, 0.9944136176742346, 0.5888936112142933, 0.997756611024018, 0.0, 0.5727030322773201, 0.0, 0.5306908448747694, 0.5523443826852942, 0.5077733308337905, 0.0, 0.0, 0.0, 0.5410931221413626, 0.5196607022891978, 0.0, 0.0, 0.5636394078443514, 0.2432160327617454, 0.9998097527498844, 0.9998651985813922, 0.9999101833355075, 0.9999439592325422, 0.9999673950962952, 0.010097328300038563, 0.007059511952546296, 0.6154962665884478, 0.0, 0.5498320531322788, 0.5667970763909832, 0.5694544571337833, 0.6019167628288496, 0.0, 0.9999999951064678, 0.9999999857275168, 0.9999999834572683, 0.9999999763194183, 0.4850582617987071, 0.5833525186399733, 0.9999999711375488, 0.9999999734737024, 0.937850253902332, 0.8903228663853, 0.8831275702045678, 0.8902814380519525, 0.999999997764194, 0.9897584073327407, 0.8126738771810712, 0.5785322256884797, 0.0, 0.5464631728085737, 0.9169708445145203, 0.9932031186177669, 0.8078074478539518, 0.9045618114145257, 0.5484936765324988, 0.7313071955132395, 0.9935118412799614, 0.9921765469167733, 0.6824934762667212, 0.38201105818923287, 0.692615292028792, 0.6649403735978495, 0.21707935789364294, 0.9999463180292254, 0.9992796212707831, 0.0, 0.9999207117704555, 0.5820250416391749, 0.0021464580012113014, 0.0, 0.9996165206348343, 0.0, 0.9167806394751778, 0.0, 0.6693511432690593, 0.5498647236097937, 0.6149732598370187, 0.0, 0.0, 1.0, 1.0, 1.0, 1.0, 1.0, 1.0, 0.0, 0.2363507033863014, 0.8915978204734364, 0.5764920970867933, 0.6060948410765394, 0.7570604267659357, 0.0, 0.9023390337508166, 0.8904403028386303, 0.0, 0.5589828553174245, 0.5511845783217889, 0.672107526391623, 0.0, 0.04131332905526013, 0.9999245439859272, 0.9997851935317614, 0.9997327468527168, 0.9997505565493794, 0.9997867125643005, 0.22566813523199036, 0.22328382109357836, 0.23151142554284468, 0.24586946310220012, 0.0, 0.2282077416460042, 0.46812349027860584, 0.23734425388495586, 0.9998952240955293, 0.6237732148269431, 0.0, 0.5684637700715395, 0.2923162292234817, 0.9986814486488536, 0.9999999978386948, 0.9999999978386948, 0.9999999984853027, 0.9999999984853027, 0.9999999959666473, 0.0, 0.6071379187835028, 0.9999999853136099, 0.9999999853136099, 0.9999999897203753, 0.9999999897203753, 0.9983914707573402, 0.9979282633877599, 0.997709192833725, 0.9980273646263323, 0.27619936520863264, 0.07679786622360284, 0.4264517133721605, 0.9968159011313056, 0.05072383630107898, 0.9948870828724, 0.49824951385960553, 0.9931325858831064, 0.6639641440305841, 0.6695627570623005, 0.9884216132493765, 0.6451542365833879, 0.7472079563740107, 1.0, 1.0, 1.0, 1.0, 1.0, 1.0, 1.0, 1.0, 1.0, 1.0, 1.0, 1.0, 1.0, 1.0, 1.0, 1.0, 1.0, 1.0, 1.0, 1.0, 1.0, 1.0, 1.0, 1.0, 1.0, 1.0, 1.0, 1.0, 0.09240674333482732, 0.21791206803802832, 1.0, 1.0, 0.8912121018362231, 0.9989001072395548, 0.9990856053992554, 1.0, 1.0, 1.0, 1.0, 0.9879205730389313, 1.0, 0.999999999999997, 1.0, 0.610785553647156, 1.0, 0.5573976788689062, 0.999999140933103, 0.9999997439520948, 0.9999993062451249, 1.0, 0.9999975022568547, 0.999997580452345, 0.9999988320787941, 0.9999965617325359, 0.9999979872159329, 0.9999979777718448, 0.6716139962624952, 0.9537127924238679, 0.9497658724845768, 0.013442211652081556, 0.9277405489549291, 0.9021101681566149, 0.20287733556926604, 0.934359718381601, 0.7668548757918267, 0.9882683001063534, 0.9873567740528555, 0.9241178524981766, 0.7526101816749812, 0.776088713923696, 0.99999942473273, 0.4899674161975561, 0.1579418617135103, 0.7667279103051854, 0.4721842532331351], \"histnorm\": \"probability\"}], {\"title\": \"Frauds distribution across ensemble outlier score\"}, {\"showLink\": true, \"linkText\": \"Export to plot.ly\"})});</script>"
      ],
      "text/vnd.plotly.v1+html": [
       "<div id=\"5e019a81-a1ab-4ccd-a48e-37148109701d\" style=\"height: 525px; width: 100%;\" class=\"plotly-graph-div\"></div><script type=\"text/javascript\">require([\"plotly\"], function(Plotly) { window.PLOTLYENV=window.PLOTLYENV || {};window.PLOTLYENV.BASE_URL=\"https://plot.ly\";Plotly.newPlot(\"5e019a81-a1ab-4ccd-a48e-37148109701d\", [{\"type\": \"histogram\", \"x\": [0.3305096563745097, 0.10183054229022973, 0.4521927786756826, 0.9999735000691637, 0.8100948840160505, 0.9872852637088336, 0.9885947529881071, 0.9254692073299098, 0.9296310934264299, 0.9319906200915271, 0.9419322552311262, 0.7485647364046386, 0.8879014071963192, 0.8868207553034015, 0.9581209997224027, 0.9988813127418309, 0.9986963704958687, 0.9913865647098894, 0.990201422503558, 0.9795969345696393, 0.9794594925200719, 0.999946272416681, 0.9977402149025715, 0.9977730927862201, 0.9848688433170333, 1.0, 0.927835057303209, 1.0, 1.0, 0.9549880431851595, 0.999916654417002, 0.9999197253984371, 0.9282143225513395, 1.0, 1.0, 1.0, 1.0, 1.0, 0.9652475818184936, 0.0, 0.0, 0.0, 1.0, 1.0, 1.0, 1.0, 1.0, 1.0, 1.0, 1.0, 1.0, 1.0, 1.0, 1.0, 1.0, 1.0, 0.05897567276818794, 1.0, 1.0, 1.0, 0.005547521263491604, 1.0, 1.0, 1.0, 1.0, 1.0, 1.0, 1.0, 1.0, 1.0, 1.0, 1.0, 1.0, 0.5415775927328172, 1.0, 0.6873758097533297, 1.0, 1.0, 1.0, 1.0, 1.0, 0.7853959803932946, 0.7811976472414827, 0.9316864992823017, 0.684274266608759, 0.3246478348872081, 0.544907841448032, 0.6804551294350459, 0.297636407910892, 0.0, 0.5727266434170476, 0.9933859731076309, 0.9999998926731045, 0.12671579155892979, 0.9916842444363211, 0.9999999223780519, 0.9999999118335584, 0.9999998308159344, 0.9999997766239946, 0.9999998010225957, 0.9999993338885561, 0.999999296523571, 0.9829996882451802, 0.20095762748363824, 0.2293408416460317, 0.7789609409856612, 0.958572358657953, 0.9792785542750968, 1.0, 0.9989081914919685, 0.9985503062839407, 1.0, 1.0, 1.0, 1.0, 1.0, 1.0, 1.0, 1.0, 1.0, 1.0, 1.0, 1.0, 1.0, 1.0, 1.0, 1.0, 1.0, 1.0, 1.0, 1.0, 1.0, 1.0, 0.5729687724076779, 1.0, 0.9987570666884339, 0.6668476675700523, 0.9996804765103005, 1.0, 1.0, 0.9979487647774551, 0.9439803123051514, 0.9384336165398157, 0.999999998879773, 0.999999999171751, 0.5692451821522944, 0.9944136176742346, 0.5888936112142933, 0.997756611024018, 0.0, 0.5727030322773201, 0.0, 0.5306908448747694, 0.5523443826852942, 0.5077733308337905, 0.0, 0.0, 0.0, 0.5410931221413626, 0.5196607022891978, 0.0, 0.0, 0.5636394078443514, 0.2432160327617454, 0.9998097527498844, 0.9998651985813922, 0.9999101833355075, 0.9999439592325422, 0.9999673950962952, 0.010097328300038563, 0.007059511952546296, 0.6154962665884478, 0.0, 0.5498320531322788, 0.5667970763909832, 0.5694544571337833, 0.6019167628288496, 0.0, 0.9999999951064678, 0.9999999857275168, 0.9999999834572683, 0.9999999763194183, 0.4850582617987071, 0.5833525186399733, 0.9999999711375488, 0.9999999734737024, 0.937850253902332, 0.8903228663853, 0.8831275702045678, 0.8902814380519525, 0.999999997764194, 0.9897584073327407, 0.8126738771810712, 0.5785322256884797, 0.0, 0.5464631728085737, 0.9169708445145203, 0.9932031186177669, 0.8078074478539518, 0.9045618114145257, 0.5484936765324988, 0.7313071955132395, 0.9935118412799614, 0.9921765469167733, 0.6824934762667212, 0.38201105818923287, 0.692615292028792, 0.6649403735978495, 0.21707935789364294, 0.9999463180292254, 0.9992796212707831, 0.0, 0.9999207117704555, 0.5820250416391749, 0.0021464580012113014, 0.0, 0.9996165206348343, 0.0, 0.9167806394751778, 0.0, 0.6693511432690593, 0.5498647236097937, 0.6149732598370187, 0.0, 0.0, 1.0, 1.0, 1.0, 1.0, 1.0, 1.0, 0.0, 0.2363507033863014, 0.8915978204734364, 0.5764920970867933, 0.6060948410765394, 0.7570604267659357, 0.0, 0.9023390337508166, 0.8904403028386303, 0.0, 0.5589828553174245, 0.5511845783217889, 0.672107526391623, 0.0, 0.04131332905526013, 0.9999245439859272, 0.9997851935317614, 0.9997327468527168, 0.9997505565493794, 0.9997867125643005, 0.22566813523199036, 0.22328382109357836, 0.23151142554284468, 0.24586946310220012, 0.0, 0.2282077416460042, 0.46812349027860584, 0.23734425388495586, 0.9998952240955293, 0.6237732148269431, 0.0, 0.5684637700715395, 0.2923162292234817, 0.9986814486488536, 0.9999999978386948, 0.9999999978386948, 0.9999999984853027, 0.9999999984853027, 0.9999999959666473, 0.0, 0.6071379187835028, 0.9999999853136099, 0.9999999853136099, 0.9999999897203753, 0.9999999897203753, 0.9983914707573402, 0.9979282633877599, 0.997709192833725, 0.9980273646263323, 0.27619936520863264, 0.07679786622360284, 0.4264517133721605, 0.9968159011313056, 0.05072383630107898, 0.9948870828724, 0.49824951385960553, 0.9931325858831064, 0.6639641440305841, 0.6695627570623005, 0.9884216132493765, 0.6451542365833879, 0.7472079563740107, 1.0, 1.0, 1.0, 1.0, 1.0, 1.0, 1.0, 1.0, 1.0, 1.0, 1.0, 1.0, 1.0, 1.0, 1.0, 1.0, 1.0, 1.0, 1.0, 1.0, 1.0, 1.0, 1.0, 1.0, 1.0, 1.0, 1.0, 1.0, 0.09240674333482732, 0.21791206803802832, 1.0, 1.0, 0.8912121018362231, 0.9989001072395548, 0.9990856053992554, 1.0, 1.0, 1.0, 1.0, 0.9879205730389313, 1.0, 0.999999999999997, 1.0, 0.610785553647156, 1.0, 0.5573976788689062, 0.999999140933103, 0.9999997439520948, 0.9999993062451249, 1.0, 0.9999975022568547, 0.999997580452345, 0.9999988320787941, 0.9999965617325359, 0.9999979872159329, 0.9999979777718448, 0.6716139962624952, 0.9537127924238679, 0.9497658724845768, 0.013442211652081556, 0.9277405489549291, 0.9021101681566149, 0.20287733556926604, 0.934359718381601, 0.7668548757918267, 0.9882683001063534, 0.9873567740528555, 0.9241178524981766, 0.7526101816749812, 0.776088713923696, 0.99999942473273, 0.4899674161975561, 0.1579418617135103, 0.7667279103051854, 0.4721842532331351], \"histnorm\": \"probability\"}], {\"title\": \"Frauds distribution across ensemble outlier score\"}, {\"showLink\": true, \"linkText\": \"Export to plot.ly\"})});</script>"
      ]
     },
     "metadata": {},
     "output_type": "display_data"
    }
   ],
   "source": [
    "ensemble_train_res_true = pd.Series(ensemble_train_res)[df_train_unbalanced[LABEL].as_data_frame()[LABEL] == True]\n",
    "data = [go.Histogram(x=ensemble_df_train_true[col], histnorm='probability')]\n",
    "layout = go.Layout(title='Frauds distribution across ensemble outlier score')\n",
    "fig = dict(data=data, layout=layout)\n",
    "plotly.offline.iplot(fig)"
   ]
  },
  {
   "cell_type": "code",
   "execution_count": 54,
   "metadata": {},
   "outputs": [
    {
     "name": "stdout",
     "output_type": "stream",
     "text": [
      "Parse progress: |█████████████████████████████████████████████████████████| 100%\n"
     ]
    }
   ],
   "source": [
    "outlier_ensemble_train = pd.DataFrame(ensemble_train_res)\n",
    "outlier_ensemble_train.columns = [\"ensemble_outlier\"]                           \n",
    "df_train_unbalanced[\"ensemble_outlier\"] = h2o.H2OFrame(outlier_ensemble_train)"
   ]
  },
  {
   "cell_type": "code",
   "execution_count": 55,
   "metadata": {
    "collapsed": true
   },
   "outputs": [],
   "source": [
    "ensemble_df = df_validtest[OUTLIER_COLUMNS].as_data_frame()"
   ]
  },
  {
   "cell_type": "code",
   "execution_count": 56,
   "metadata": {
    "collapsed": true
   },
   "outputs": [],
   "source": [
    "if gaussian_norm:\n",
    "    ensemble_df = ensemble_df.apply(gaussian_norm)\n",
    "else:\n",
    "    scaler_ensemble = MinMaxScaler()\n",
    "    ensemble_df = scaler_ensemble.fit_transform(ensemble_df)"
   ]
  },
  {
   "cell_type": "code",
   "execution_count": 57,
   "metadata": {
    "collapsed": true
   },
   "outputs": [],
   "source": [
    "ensemble_res = np.sum(np.array(ensemble_df), axis=1) / len(OUTLIER_COLUMNS)"
   ]
  },
  {
   "cell_type": "code",
   "execution_count": 58,
   "metadata": {},
   "outputs": [
    {
     "name": "stdout",
     "output_type": "stream",
     "text": [
      "Parse progress: |█████████████████████████████████████████████████████████| 100%\n"
     ]
    }
   ],
   "source": [
    "outlier_ensemble = pd.DataFrame(ensemble_res)\n",
    "outlier_ensemble.columns = [\"ensemble_outlier\"]                           \n",
    "df_validtest[\"ensemble_outlier\"] = h2o.H2OFrame(outlier_ensemble)"
   ]
  },
  {
   "cell_type": "markdown",
   "metadata": {},
   "source": [
    "# Save result"
   ]
  },
  {
   "cell_type": "code",
   "execution_count": 59,
   "metadata": {},
   "outputs": [
    {
     "name": "stdout",
     "output_type": "stream",
     "text": [
      "Export File progress: |███████████████████████████████████████████████████| 100%\n"
     ]
    }
   ],
   "source": [
    "outname = DIR_OUTPUT + 'train_unbalanced_outlier.csv'\n",
    "h2o.export_file(df_train_unbalanced, outname, force = True, parts = 1)"
   ]
  },
  {
   "cell_type": "code",
   "execution_count": 60,
   "metadata": {},
   "outputs": [
    {
     "name": "stdout",
     "output_type": "stream",
     "text": [
      "Export File progress: |███████████████████████████████████████████████████| 100%\n"
     ]
    }
   ],
   "source": [
    "outname = DIR_OUTPUT + 'evaltest_outlier.csv'\n",
    "h2o.export_file(df_validtest, outname, force = True, parts = 1)"
   ]
  },
  {
   "cell_type": "markdown",
   "metadata": {},
   "source": [
    "# Evaluation"
   ]
  },
  {
   "cell_type": "markdown",
   "metadata": {},
   "source": [
    "## Supervised evaluation"
   ]
  },
  {
   "cell_type": "markdown",
   "metadata": {},
   "source": [
    "### Auto-encoder outlier eval"
   ]
  },
  {
   "cell_type": "code",
   "execution_count": 93,
   "metadata": {},
   "outputs": [
    {
     "name": "stdout",
     "output_type": "stream",
     "text": [
      "> 9.6% of fraud in outlier while 0.124% in all data (1000 observations considered (not normalized!))\n"
     ]
    },
    {
     "data": {
      "text/plain": [
       "9.5999999999999996"
      ]
     },
     "execution_count": 93,
     "metadata": {},
     "output_type": "execute_result"
    }
   ],
   "source": [
    "fraud_in_outlier_top(df_validtest, \"outlier_autoenc\", 1000)"
   ]
  },
  {
   "cell_type": "markdown",
   "metadata": {},
   "source": [
    "### PCA outlier eval (in the context of fraud detection, in respect to their label)"
   ]
  },
  {
   "cell_type": "code",
   "execution_count": 94,
   "metadata": {},
   "outputs": [
    {
     "name": "stdout",
     "output_type": "stream",
     "text": [
      "> 0.1% of fraud in outlier while 0.124% in all data (1000 observations considered (not normalized!))\n"
     ]
    },
    {
     "data": {
      "text/plain": [
       "0.10000000000000001"
      ]
     },
     "execution_count": 94,
     "metadata": {},
     "output_type": "execute_result"
    }
   ],
   "source": [
    "fraud_in_outlier_top(df_validtest, \"outlier_pca\", 1000)"
   ]
  },
  {
   "cell_type": "markdown",
   "metadata": {},
   "source": [
    "### Zscore outlier eval (in the context of fraud detection, in respect to their label)"
   ]
  },
  {
   "cell_type": "code",
   "execution_count": 95,
   "metadata": {},
   "outputs": [
    {
     "name": "stdout",
     "output_type": "stream",
     "text": [
      "> 5.2% of fraud in outlier while 0.124% in all data (1000 observations considered (not normalized!))\n"
     ]
    },
    {
     "data": {
      "text/plain": [
       "5.2000000000000002"
      ]
     },
     "execution_count": 95,
     "metadata": {},
     "output_type": "execute_result"
    }
   ],
   "source": [
    "fraud_in_outlier_top(df_validtest, \"outlier_zscore\", 1000)"
   ]
  },
  {
   "cell_type": "markdown",
   "metadata": {},
   "source": [
    "### Outlier ensemble eval (in the context of fraud detection, in respect to their label)"
   ]
  },
  {
   "cell_type": "code",
   "execution_count": 96,
   "metadata": {},
   "outputs": [
    {
     "name": "stdout",
     "output_type": "stream",
     "text": [
      "> 3.6999999999999997% of fraud in outlier while 0.124% in all data (1000 observations considered (not normalized!))\n"
     ]
    },
    {
     "data": {
      "text/plain": [
       "3.6999999999999997"
      ]
     },
     "execution_count": 96,
     "metadata": {},
     "output_type": "execute_result"
    }
   ],
   "source": [
    "fraud_in_outlier_top(df_validtest, \"ensemble_outlier\", 1000)"
   ]
  },
  {
   "cell_type": "markdown",
   "metadata": {},
   "source": [
    "## Correlation"
   ]
  },
  {
   "cell_type": "code",
   "execution_count": 62,
   "metadata": {
    "collapsed": true
   },
   "outputs": [],
   "source": [
    "outlierdf = df_validtest[OUTLIER_COLUMNS + OUTLIER_ENSEMBLE_COLUMNS].as_data_frame()"
   ]
  },
  {
   "cell_type": "code",
   "execution_count": 63,
   "metadata": {},
   "outputs": [
    {
     "data": {
      "text/plain": [
       "[('outlier_autoenc', 'outlier_pca'),\n",
       " ('outlier_autoenc', 'outlier_zscore'),\n",
       " ('outlier_autoenc', 'ensemble_outlier'),\n",
       " ('outlier_pca', 'outlier_zscore'),\n",
       " ('outlier_pca', 'ensemble_outlier'),\n",
       " ('outlier_zscore', 'ensemble_outlier')]"
      ]
     },
     "execution_count": 63,
     "metadata": {},
     "output_type": "execute_result"
    }
   ],
   "source": [
    "outliercol_combi = list(itertools.combinations(outlierdf.columns, 2))\n",
    "outliercol_combi"
   ]
  },
  {
   "cell_type": "markdown",
   "metadata": {},
   "source": [
    "### Pearson coefficient between score"
   ]
  },
  {
   "cell_type": "code",
   "execution_count": 64,
   "metadata": {},
   "outputs": [
    {
     "data": {
      "text/html": [
       "<div>\n",
       "<style>\n",
       "    .dataframe thead tr:only-child th {\n",
       "        text-align: right;\n",
       "    }\n",
       "\n",
       "    .dataframe thead th {\n",
       "        text-align: left;\n",
       "    }\n",
       "\n",
       "    .dataframe tbody tr th {\n",
       "        vertical-align: top;\n",
       "    }\n",
       "</style>\n",
       "<table border=\"1\" class=\"dataframe\">\n",
       "  <thead>\n",
       "    <tr style=\"text-align: right;\">\n",
       "      <th></th>\n",
       "      <th>outlier_autoenc</th>\n",
       "      <th>outlier_pca</th>\n",
       "      <th>outlier_zscore</th>\n",
       "      <th>ensemble_outlier</th>\n",
       "    </tr>\n",
       "  </thead>\n",
       "  <tbody>\n",
       "    <tr>\n",
       "      <th>outlier_autoenc</th>\n",
       "      <td>1.000000</td>\n",
       "      <td>0.398419</td>\n",
       "      <td>0.921967</td>\n",
       "      <td>0.096145</td>\n",
       "    </tr>\n",
       "    <tr>\n",
       "      <th>outlier_pca</th>\n",
       "      <td>0.398419</td>\n",
       "      <td>1.000000</td>\n",
       "      <td>0.472815</td>\n",
       "      <td>0.670720</td>\n",
       "    </tr>\n",
       "    <tr>\n",
       "      <th>outlier_zscore</th>\n",
       "      <td>0.921967</td>\n",
       "      <td>0.472815</td>\n",
       "      <td>1.000000</td>\n",
       "      <td>0.275684</td>\n",
       "    </tr>\n",
       "    <tr>\n",
       "      <th>ensemble_outlier</th>\n",
       "      <td>0.096145</td>\n",
       "      <td>0.670720</td>\n",
       "      <td>0.275684</td>\n",
       "      <td>1.000000</td>\n",
       "    </tr>\n",
       "  </tbody>\n",
       "</table>\n",
       "</div>"
      ],
      "text/plain": [
       "                  outlier_autoenc  outlier_pca  outlier_zscore  \\\n",
       "outlier_autoenc          1.000000     0.398419        0.921967   \n",
       "outlier_pca              0.398419     1.000000        0.472815   \n",
       "outlier_zscore           0.921967     0.472815        1.000000   \n",
       "ensemble_outlier         0.096145     0.670720        0.275684   \n",
       "\n",
       "                  ensemble_outlier  \n",
       "outlier_autoenc           0.096145  \n",
       "outlier_pca               0.670720  \n",
       "outlier_zscore            0.275684  \n",
       "ensemble_outlier          1.000000  "
      ]
     },
     "execution_count": 64,
     "metadata": {},
     "output_type": "execute_result"
    }
   ],
   "source": [
    "outlierdf.corr()"
   ]
  },
  {
   "cell_type": "markdown",
   "metadata": {},
   "source": [
    "ok but significant ?"
   ]
  },
  {
   "cell_type": "code",
   "execution_count": 65,
   "metadata": {},
   "outputs": [
    {
     "name": "stdout",
     "output_type": "stream",
     "text": [
      "Correlation between outlier_autoenc and outlier_pca is 0.3984191925667174 with a pvalue=0.0\n",
      "Correlation between outlier_autoenc and outlier_zscore is 0.9219667543813767 with a pvalue=0.0\n",
      "Correlation between outlier_autoenc and ensemble_outlier is 0.09614532866854555 with a pvalue=5.751744958052358e-204\n",
      "Correlation between outlier_pca and outlier_zscore is 0.4728152811754703 with a pvalue=0.0\n",
      "Correlation between outlier_pca and ensemble_outlier is 0.670720074987734 with a pvalue=0.0\n",
      "Correlation between outlier_zscore and ensemble_outlier is 0.27568369382629854 with a pvalue=0.0\n"
     ]
    }
   ],
   "source": [
    "for combi in outliercol_combi:\n",
    "    colname1, colname2 = combi\n",
    "    coeff, pvalue = pearsonr(outlierdf[colname1], outlierdf[colname2])\n",
    "    print(\"Correlation between {} and {} is {} with a pvalue={}\".format(colname1, colname2 , coeff,pvalue))"
   ]
  },
  {
   "cell_type": "markdown",
   "metadata": {},
   "source": [
    "yes, corr are significant"
   ]
  },
  {
   "cell_type": "markdown",
   "metadata": {},
   "source": [
    "### Spearman rank between score"
   ]
  },
  {
   "cell_type": "code",
   "execution_count": 66,
   "metadata": {},
   "outputs": [
    {
     "name": "stdout",
     "output_type": "stream",
     "text": [
      "Correlation between outlier_autoenc and outlier_pca is 0.11096276901327883 with a pvalue=2.16013258827061e-271\n",
      "Correlation between outlier_autoenc and outlier_zscore is 0.6271644840321677 with a pvalue=0.0\n",
      "Correlation between outlier_autoenc and ensemble_outlier is 0.30488638815553937 with a pvalue=0.0\n",
      "Correlation between outlier_pca and outlier_zscore is 0.18787448922830832 with a pvalue=0.0\n",
      "Correlation between outlier_pca and ensemble_outlier is 0.7784134561328822 with a pvalue=0.0\n",
      "Correlation between outlier_zscore and ensemble_outlier is 0.46286136085733826 with a pvalue=0.0\n"
     ]
    }
   ],
   "source": [
    "for combi in outliercol_combi:\n",
    "    colname1, colname2 = combi\n",
    "    coeff, pvalue = spearmanr(outlierdf[colname1], outlierdf[colname2])\n",
    "    print(\"Correlation between {} and {} is {} with a pvalue={}\".format(colname1, colname2 , coeff,pvalue))"
   ]
  },
  {
   "cell_type": "markdown",
   "metadata": {},
   "source": [
    "### Kendall's tau between score"
   ]
  },
  {
   "cell_type": "code",
   "execution_count": 67,
   "metadata": {},
   "outputs": [
    {
     "name": "stdout",
     "output_type": "stream",
     "text": [
      "Correlation between outlier_autoenc and outlier_pca is 0.07306481979601237 with a pvalue=3.503357813526684e-263\n",
      "Correlation between outlier_autoenc and outlier_zscore is 0.45319894352972306 with a pvalue=0.0\n",
      "Correlation between outlier_autoenc and ensemble_outlier is 0.22434585759782016 with a pvalue=0.0\n",
      "Correlation between outlier_pca and outlier_zscore is 0.13012462711831918 with a pvalue=0.0\n",
      "Correlation between outlier_pca and ensemble_outlier is 0.6704419410042625 with a pvalue=0.0\n",
      "Correlation between outlier_zscore and ensemble_outlier is 0.3452999120661913 with a pvalue=0.0\n"
     ]
    }
   ],
   "source": [
    "for combi in outliercol_combi:\n",
    "    colname1, colname2 = combi\n",
    "    coeff, pvalue = kendalltau(outlierdf[colname1], outlierdf[colname2])\n",
    "    print(\"Correlation between {} and {} is {} with a pvalue={}\".format(colname1, colname2 , coeff,pvalue))"
   ]
  },
  {
   "cell_type": "markdown",
   "metadata": {},
   "source": [
    "## Score comparison"
   ]
  },
  {
   "cell_type": "markdown",
   "metadata": {},
   "source": [
    "#### Let's look at the outlier themselves (va index)"
   ]
  },
  {
   "cell_type": "code",
   "execution_count": 69,
   "metadata": {},
   "outputs": [
    {
     "name": "stdout",
     "output_type": "stream",
     "text": [
      "[outlier_autoenc <-> outlier_pca] 155 common element in outliers out of 1000 (15.5%)\n",
      "[outlier_autoenc <-> outlier_zscore] 598 common element in outliers out of 1000 (59.8%)\n",
      "[outlier_autoenc <-> ensemble_outlier] 573 common element in outliers out of 1000 (57.3%)\n",
      "[outlier_pca <-> outlier_zscore] 137 common element in outliers out of 1000 (13.7%)\n",
      "[outlier_pca <-> ensemble_outlier] 249 common element in outliers out of 1000 (24.9%)\n",
      "[outlier_zscore <-> ensemble_outlier] 619 common element in outliers out of 1000 (61.9%)\n"
     ]
    }
   ],
   "source": [
    "for combi in outliercol_combi:\n",
    "    colname1, colname2 = combi\n",
    "    index_outlier_common(df_validtest, colname1, colname2, 0.99)"
   ]
  },
  {
   "cell_type": "markdown",
   "metadata": {},
   "source": [
    "# Misc"
   ]
  },
  {
   "cell_type": "code",
   "execution_count": 98,
   "metadata": {},
   "outputs": [
    {
     "data": {
      "text/html": [
       "<div style=\"overflow:auto\"><table style=\"width:50%\"><tr><td>H2O cluster uptime:</td>\n",
       "<td>49 mins 06 secs</td></tr>\n",
       "<tr><td>H2O cluster version:</td>\n",
       "<td>3.10.4.8</td></tr>\n",
       "<tr><td>H2O cluster version age:</td>\n",
       "<td>5 days </td></tr>\n",
       "<tr><td>H2O cluster name:</td>\n",
       "<td>H2O_from_python_pierre_2e44fe</td></tr>\n",
       "<tr><td>H2O cluster total nodes:</td>\n",
       "<td>1</td></tr>\n",
       "<tr><td>H2O cluster free memory:</td>\n",
       "<td>27.77 Gb</td></tr>\n",
       "<tr><td>H2O cluster total cores:</td>\n",
       "<td>4</td></tr>\n",
       "<tr><td>H2O cluster allowed cores:</td>\n",
       "<td>4</td></tr>\n",
       "<tr><td>H2O cluster status:</td>\n",
       "<td>locked, healthy</td></tr>\n",
       "<tr><td>H2O connection url:</td>\n",
       "<td>http://localhost:54321</td></tr>\n",
       "<tr><td>H2O connection proxy:</td>\n",
       "<td>None</td></tr>\n",
       "<tr><td>H2O internal security:</td>\n",
       "<td>False</td></tr>\n",
       "<tr><td>Python version:</td>\n",
       "<td>3.6.0 final</td></tr></table></div>"
      ],
      "text/plain": [
       "--------------------------  -----------------------------\n",
       "H2O cluster uptime:         49 mins 06 secs\n",
       "H2O cluster version:        3.10.4.8\n",
       "H2O cluster version age:    5 days\n",
       "H2O cluster name:           H2O_from_python_pierre_2e44fe\n",
       "H2O cluster total nodes:    1\n",
       "H2O cluster free memory:    27.77 Gb\n",
       "H2O cluster total cores:    4\n",
       "H2O cluster allowed cores:  4\n",
       "H2O cluster status:         locked, healthy\n",
       "H2O connection url:         http://localhost:54321\n",
       "H2O connection proxy:\n",
       "H2O internal security:      False\n",
       "Python version:             3.6.0 final\n",
       "--------------------------  -----------------------------"
      ]
     },
     "metadata": {},
     "output_type": "display_data"
    }
   ],
   "source": [
    "h2o.cluster().show_status()"
   ]
  },
  {
   "cell_type": "code",
   "execution_count": null,
   "metadata": {
    "collapsed": true
   },
   "outputs": [],
   "source": [
    "stopbefore"
   ]
  },
  {
   "cell_type": "code",
   "execution_count": null,
   "metadata": {
    "collapsed": true
   },
   "outputs": [],
   "source": [
    "h2o.cluster().shutdown()"
   ]
  },
  {
   "cell_type": "code",
   "execution_count": null,
   "metadata": {
    "collapsed": true
   },
   "outputs": [],
   "source": []
  }
 ],
 "metadata": {
  "kernelspec": {
   "display_name": "Python 3",
   "language": "python",
   "name": "python3"
  },
  "language_info": {
   "codemirror_mode": {
    "name": "ipython",
    "version": 3
   },
   "file_extension": ".py",
   "mimetype": "text/x-python",
   "name": "python",
   "nbconvert_exporter": "python",
   "pygments_lexer": "ipython3",
   "version": "3.6.0"
  }
 },
 "nbformat": 4,
 "nbformat_minor": 1
}
